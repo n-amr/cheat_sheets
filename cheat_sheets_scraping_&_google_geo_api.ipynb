{
 "cells": [
  {
   "cell_type": "code",
   "execution_count": 1,
   "metadata": {},
   "outputs": [],
   "source": [
    "import pandas as pd \n",
    "import re \n",
    "import requests\n",
    "import json\n",
    "import numpy as np \n",
    "import pandas as pd\n",
    "from bs4 import BeautifulSoup\n"
   ]
  },
  {
   "cell_type": "markdown",
   "metadata": {},
   "source": [
    "# Part 1 - Scrape Wikipedia Page of Paris Monuments"
   ]
  },
  {
   "cell_type": "code",
   "execution_count": 2,
   "metadata": {},
   "outputs": [],
   "source": [
    "wiki_monuments = requests.get(\"https://fr.wikipedia.org/wiki/Monuments_et_sites_de_Paris\")"
   ]
  },
  {
   "cell_type": "code",
   "execution_count": 3,
   "metadata": {},
   "outputs": [],
   "source": [
    "html = wiki_monuments.text\n",
    "soup = BeautifulSoup(html, 'html.parser')"
   ]
  },
  {
   "cell_type": "code",
   "execution_count": 4,
   "metadata": {},
   "outputs": [],
   "source": [
    "#categories for types of monuments\n",
    "categories =[a.get_text() for a in soup.select(\"#mw-content-text > div.mw-parser-output > h3\")] \n"
   ]
  },
  {
   "cell_type": "code",
   "execution_count": 5,
   "metadata": {},
   "outputs": [],
   "source": [
    "#Name of monuments --> returns 1 list of monuments per category\n",
    "monuments = [a.get_text() for a in soup.select(\"#mw-content-text > div.mw-parser-output > ul\")]"
   ]
  },
  {
   "cell_type": "code",
   "execution_count": 6,
   "metadata": {},
   "outputs": [],
   "source": [
    "# Only using first 11 categories so that we don't use too much API calls later for the geocode\n",
    "monuments = monuments[0:10]\n",
    "categories = categories[0:10]"
   ]
  },
  {
   "cell_type": "code",
   "execution_count": 7,
   "metadata": {},
   "outputs": [],
   "source": [
    "# put scraped data into DF \n",
    "paris_dict = {\"monument\": monuments, \"category\": categories}\n",
    "paris = pd.DataFrame(paris_dict)"
   ]
  },
  {
   "cell_type": "code",
   "execution_count": 8,
   "metadata": {},
   "outputs": [],
   "source": [
    "pd.set_option(\"max_colwidth\", 500)"
   ]
  },
  {
   "cell_type": "code",
   "execution_count": 9,
   "metadata": {},
   "outputs": [
    {
     "data": {
      "text/html": [
       "<div>\n",
       "<style scoped>\n",
       "    .dataframe tbody tr th:only-of-type {\n",
       "        vertical-align: middle;\n",
       "    }\n",
       "\n",
       "    .dataframe tbody tr th {\n",
       "        vertical-align: top;\n",
       "    }\n",
       "\n",
       "    .dataframe thead th {\n",
       "        text-align: right;\n",
       "    }\n",
       "</style>\n",
       "<table border=\"1\" class=\"dataframe\">\n",
       "  <thead>\n",
       "    <tr style=\"text-align: right;\">\n",
       "      <th></th>\n",
       "      <th>monument</th>\n",
       "      <th>category</th>\n",
       "    </tr>\n",
       "  </thead>\n",
       "  <tbody>\n",
       "    <tr>\n",
       "      <th>0</th>\n",
       "      <td>Arc de triomphe du Carrousel\\nArc de triomphe de l'Étoile\\nArche de la Défense\\nPorte Saint-Denis\\nPorte Saint-Martin</td>\n",
       "      <td>Arcs et arches[modifier | modifier le code]</td>\n",
       "    </tr>\n",
       "    <tr>\n",
       "      <th>1</th>\n",
       "      <td>Colonne Médicis\\nColonne de Juillet, place de la Bastille\\nColonne Vendôme, place Vendôme\\nObélisque de Louxor, place de la Concorde\\nBarrière du Trône, avenue du Trône</td>\n",
       "      <td>Colonnes et obélisques[modifier | modifier le code]</td>\n",
       "    </tr>\n",
       "  </tbody>\n",
       "</table>\n",
       "</div>"
      ],
      "text/plain": [
       "                                                                                                                                                                   monument  \\\n",
       "0                                                     Arc de triomphe du Carrousel\\nArc de triomphe de l'Étoile\\nArche de la Défense\\nPorte Saint-Denis\\nPorte Saint-Martin   \n",
       "1  Colonne Médicis\\nColonne de Juillet, place de la Bastille\\nColonne Vendôme, place Vendôme\\nObélisque de Louxor, place de la Concorde\\nBarrière du Trône, avenue du Trône   \n",
       "\n",
       "                                              category  \n",
       "0          Arcs et arches[modifier | modifier le code]  \n",
       "1  Colonnes et obélisques[modifier | modifier le code]  "
      ]
     },
     "execution_count": 9,
     "metadata": {},
     "output_type": "execute_result"
    }
   ],
   "source": [
    "paris.head(2)"
   ]
  },
  {
   "cell_type": "code",
   "execution_count": 10,
   "metadata": {},
   "outputs": [],
   "source": [
    "#transform string into list of monuments that were separated with \\n in html code\n",
    "paris[\"monument\"] = paris[\"monument\"].apply(lambda x: x.split(\"\\n\"))"
   ]
  },
  {
   "cell_type": "code",
   "execution_count": 11,
   "metadata": {
    "scrolled": true
   },
   "outputs": [
    {
     "data": {
      "text/html": [
       "<div>\n",
       "<style scoped>\n",
       "    .dataframe tbody tr th:only-of-type {\n",
       "        vertical-align: middle;\n",
       "    }\n",
       "\n",
       "    .dataframe tbody tr th {\n",
       "        vertical-align: top;\n",
       "    }\n",
       "\n",
       "    .dataframe thead th {\n",
       "        text-align: right;\n",
       "    }\n",
       "</style>\n",
       "<table border=\"1\" class=\"dataframe\">\n",
       "  <thead>\n",
       "    <tr style=\"text-align: right;\">\n",
       "      <th></th>\n",
       "      <th>monument</th>\n",
       "      <th>category</th>\n",
       "    </tr>\n",
       "  </thead>\n",
       "  <tbody>\n",
       "    <tr>\n",
       "      <th>0</th>\n",
       "      <td>[Arc de triomphe du Carrousel, Arc de triomphe de l'Étoile, Arche de la Défense, Porte Saint-Denis, Porte Saint-Martin]</td>\n",
       "      <td>Arcs et arches[modifier | modifier le code]</td>\n",
       "    </tr>\n",
       "    <tr>\n",
       "      <th>1</th>\n",
       "      <td>[Colonne Médicis, Colonne de Juillet, place de la Bastille, Colonne Vendôme, place Vendôme, Obélisque de Louxor, place de la Concorde, Barrière du Trône, avenue du Trône]</td>\n",
       "      <td>Colonnes et obélisques[modifier | modifier le code]</td>\n",
       "    </tr>\n",
       "  </tbody>\n",
       "</table>\n",
       "</div>"
      ],
      "text/plain": [
       "                                                                                                                                                                     monument  \\\n",
       "0                                                     [Arc de triomphe du Carrousel, Arc de triomphe de l'Étoile, Arche de la Défense, Porte Saint-Denis, Porte Saint-Martin]   \n",
       "1  [Colonne Médicis, Colonne de Juillet, place de la Bastille, Colonne Vendôme, place Vendôme, Obélisque de Louxor, place de la Concorde, Barrière du Trône, avenue du Trône]   \n",
       "\n",
       "                                              category  \n",
       "0          Arcs et arches[modifier | modifier le code]  \n",
       "1  Colonnes et obélisques[modifier | modifier le code]  "
      ]
     },
     "execution_count": 11,
     "metadata": {},
     "output_type": "execute_result"
    }
   ],
   "source": [
    "paris.head(2)"
   ]
  },
  {
   "cell_type": "code",
   "execution_count": 12,
   "metadata": {},
   "outputs": [],
   "source": [
    "# explode function basically takes all elements of a list and puts them in their own row\n",
    "paris = paris.explode(\"monument\")\n"
   ]
  },
  {
   "cell_type": "code",
   "execution_count": 13,
   "metadata": {},
   "outputs": [],
   "source": [
    "# explode function has an index argument but for some reason did not work, so resetting index here\n",
    "paris = paris.reset_index(drop= True)"
   ]
  },
  {
   "cell_type": "code",
   "execution_count": 14,
   "metadata": {},
   "outputs": [],
   "source": [
    "# need to clean the categories string in order to take out the weird HTML text. \\\\ allows escape of regex for \"[\"\n",
    "paris[\"category\"] = paris[\"category\"].str.split('\\\\[modifier').str[0]"
   ]
  },
  {
   "cell_type": "code",
   "execution_count": 16,
   "metadata": {
    "scrolled": true
   },
   "outputs": [
    {
     "data": {
      "text/html": [
       "<div>\n",
       "<style scoped>\n",
       "    .dataframe tbody tr th:only-of-type {\n",
       "        vertical-align: middle;\n",
       "    }\n",
       "\n",
       "    .dataframe tbody tr th {\n",
       "        vertical-align: top;\n",
       "    }\n",
       "\n",
       "    .dataframe thead th {\n",
       "        text-align: right;\n",
       "    }\n",
       "</style>\n",
       "<table border=\"1\" class=\"dataframe\">\n",
       "  <thead>\n",
       "    <tr style=\"text-align: right;\">\n",
       "      <th></th>\n",
       "      <th>monument</th>\n",
       "      <th>category</th>\n",
       "    </tr>\n",
       "  </thead>\n",
       "  <tbody>\n",
       "    <tr>\n",
       "      <th>0</th>\n",
       "      <td>Arc de triomphe du Carrousel</td>\n",
       "      <td>Arcs et arches</td>\n",
       "    </tr>\n",
       "    <tr>\n",
       "      <th>1</th>\n",
       "      <td>Arc de triomphe de l'Étoile</td>\n",
       "      <td>Arcs et arches</td>\n",
       "    </tr>\n",
       "    <tr>\n",
       "      <th>2</th>\n",
       "      <td>Arche de la Défense</td>\n",
       "      <td>Arcs et arches</td>\n",
       "    </tr>\n",
       "    <tr>\n",
       "      <th>3</th>\n",
       "      <td>Porte Saint-Denis</td>\n",
       "      <td>Arcs et arches</td>\n",
       "    </tr>\n",
       "    <tr>\n",
       "      <th>4</th>\n",
       "      <td>Porte Saint-Martin</td>\n",
       "      <td>Arcs et arches</td>\n",
       "    </tr>\n",
       "    <tr>\n",
       "      <th>5</th>\n",
       "      <td>Colonne Médicis</td>\n",
       "      <td>Colonnes et obélisques</td>\n",
       "    </tr>\n",
       "    <tr>\n",
       "      <th>6</th>\n",
       "      <td>Colonne de Juillet, place de la Bastille</td>\n",
       "      <td>Colonnes et obélisques</td>\n",
       "    </tr>\n",
       "    <tr>\n",
       "      <th>7</th>\n",
       "      <td>Colonne Vendôme, place Vendôme</td>\n",
       "      <td>Colonnes et obélisques</td>\n",
       "    </tr>\n",
       "    <tr>\n",
       "      <th>8</th>\n",
       "      <td>Obélisque de Louxor, place de la Concorde</td>\n",
       "      <td>Colonnes et obélisques</td>\n",
       "    </tr>\n",
       "    <tr>\n",
       "      <th>9</th>\n",
       "      <td>Barrière du Trône, avenue du Trône</td>\n",
       "      <td>Colonnes et obélisques</td>\n",
       "    </tr>\n",
       "    <tr>\n",
       "      <th>10</th>\n",
       "      <td>Fontaine des Innocents, square des Innocents, Paris 1er</td>\n",
       "      <td>Fontaines célèbres</td>\n",
       "    </tr>\n",
       "    <tr>\n",
       "      <th>11</th>\n",
       "      <td>Fontaine du Palmier (ou fontaine de la Victoire), place du Châtelet, Paris 1er</td>\n",
       "      <td>Fontaines célèbres</td>\n",
       "    </tr>\n",
       "    <tr>\n",
       "      <th>12</th>\n",
       "      <td>Fontaine Stravinsky, à proximité du centre Beaubourg, Paris 3e</td>\n",
       "      <td>Fontaines célèbres</td>\n",
       "    </tr>\n",
       "    <tr>\n",
       "      <th>13</th>\n",
       "      <td>Fontaine Saint-Michel, place Saint-Michel, Paris 6e</td>\n",
       "      <td>Fontaines célèbres</td>\n",
       "    </tr>\n",
       "    <tr>\n",
       "      <th>14</th>\n",
       "      <td>Fontaine Saint-Sulpice, place Saint-Sulpice, Paris 6e</td>\n",
       "      <td>Fontaines célèbres</td>\n",
       "    </tr>\n",
       "    <tr>\n",
       "      <th>15</th>\n",
       "      <td>Fontaine Médicis, jardin du Luxembourg, Paris 6e</td>\n",
       "      <td>Fontaines célèbres</td>\n",
       "    </tr>\n",
       "    <tr>\n",
       "      <th>16</th>\n",
       "      <td>Fontaine l'Embâcle, place du Québec, Paris 6e</td>\n",
       "      <td>Fontaines célèbres</td>\n",
       "    </tr>\n",
       "    <tr>\n",
       "      <th>17</th>\n",
       "      <td>Fontaine des Quatre-Parties-du-Monde, Paris 6e</td>\n",
       "      <td>Fontaines célèbres</td>\n",
       "    </tr>\n",
       "    <tr>\n",
       "      <th>18</th>\n",
       "      <td>Fontaine des Quatre-Saisons, rue de Grenelle, Paris 7e</td>\n",
       "      <td>Fontaines célèbres</td>\n",
       "    </tr>\n",
       "    <tr>\n",
       "      <th>19</th>\n",
       "      <td>Fontaine des Fleuves et Fontaine des Mers, place de la Concorde, Paris 8e</td>\n",
       "      <td>Fontaines célèbres</td>\n",
       "    </tr>\n",
       "  </tbody>\n",
       "</table>\n",
       "</div>"
      ],
      "text/plain": [
       "                                                                          monument  \\\n",
       "0                                                     Arc de triomphe du Carrousel   \n",
       "1                                                      Arc de triomphe de l'Étoile   \n",
       "2                                                              Arche de la Défense   \n",
       "3                                                                Porte Saint-Denis   \n",
       "4                                                               Porte Saint-Martin   \n",
       "5                                                                  Colonne Médicis   \n",
       "6                                         Colonne de Juillet, place de la Bastille   \n",
       "7                                                   Colonne Vendôme, place Vendôme   \n",
       "8                                        Obélisque de Louxor, place de la Concorde   \n",
       "9                                               Barrière du Trône, avenue du Trône   \n",
       "10                         Fontaine des Innocents, square des Innocents, Paris 1er   \n",
       "11  Fontaine du Palmier (ou fontaine de la Victoire), place du Châtelet, Paris 1er   \n",
       "12                  Fontaine Stravinsky, à proximité du centre Beaubourg, Paris 3e   \n",
       "13                             Fontaine Saint-Michel, place Saint-Michel, Paris 6e   \n",
       "14                           Fontaine Saint-Sulpice, place Saint-Sulpice, Paris 6e   \n",
       "15                                Fontaine Médicis, jardin du Luxembourg, Paris 6e   \n",
       "16                                   Fontaine l'Embâcle, place du Québec, Paris 6e   \n",
       "17                                  Fontaine des Quatre-Parties-du-Monde, Paris 6e   \n",
       "18                          Fontaine des Quatre-Saisons, rue de Grenelle, Paris 7e   \n",
       "19       Fontaine des Fleuves et Fontaine des Mers, place de la Concorde, Paris 8e   \n",
       "\n",
       "                  category  \n",
       "0           Arcs et arches  \n",
       "1           Arcs et arches  \n",
       "2           Arcs et arches  \n",
       "3           Arcs et arches  \n",
       "4           Arcs et arches  \n",
       "5   Colonnes et obélisques  \n",
       "6   Colonnes et obélisques  \n",
       "7   Colonnes et obélisques  \n",
       "8   Colonnes et obélisques  \n",
       "9   Colonnes et obélisques  \n",
       "10      Fontaines célèbres  \n",
       "11      Fontaines célèbres  \n",
       "12      Fontaines célèbres  \n",
       "13      Fontaines célèbres  \n",
       "14      Fontaines célèbres  \n",
       "15      Fontaines célèbres  \n",
       "16      Fontaines célèbres  \n",
       "17      Fontaines célèbres  \n",
       "18      Fontaines célèbres  \n",
       "19      Fontaines célèbres  "
      ]
     },
     "execution_count": 16,
     "metadata": {},
     "output_type": "execute_result"
    }
   ],
   "source": [
    "# and here is our fairly clean DF --> we could further split monument string but not necessary for now\n",
    "paris.head(20)"
   ]
  },
  {
   "cell_type": "markdown",
   "metadata": {},
   "source": [
    "# Part 2 - Geolocation API"
   ]
  },
  {
   "cell_type": "code",
   "execution_count": 17,
   "metadata": {},
   "outputs": [],
   "source": [
    "# defining API settings\n",
    "api_key = 'your key'\n",
    "address = \"\"\n",
    "base_url = 'https://maps.googleapis.com/maps/api/geocode/json?address='\n"
   ]
  },
  {
   "cell_type": "code",
   "execution_count": 18,
   "metadata": {},
   "outputs": [],
   "source": [
    "# function that gives an URL for the API we need according to address \n",
    "def give_url(address):\n",
    "    url = base_url + address + '&key=' + api_key\n",
    "    url = re.sub('\\\\s', '+', url)\n",
    "    return url "
   ]
  },
  {
   "cell_type": "code",
   "execution_count": 19,
   "metadata": {},
   "outputs": [],
   "source": [
    "# function that returns longtidue of input adress  \n",
    "def get_longitude(address): \n",
    "    try:\n",
    "        url = base_url + address + '&key=' + api_key\n",
    "        url = re.sub('\\\\s', '+', url)\n",
    "        location_data = requests.get(url)\n",
    "        location_data = json.loads(location_data.text)\n",
    "        longitude = location_data['results'][0]['geometry']['location']['lng']\n",
    "        longitude = float (longitude)\n",
    "        \n",
    "    # error handling \n",
    "    except TypeError:\n",
    "        longitude = np.NaN\n",
    "    except IndexError:\n",
    "        longitude = np.NaN\n",
    "    return (longitude)"
   ]
  },
  {
   "cell_type": "code",
   "execution_count": 20,
   "metadata": {},
   "outputs": [],
   "source": [
    "# same as above for latitude\n",
    "def get_latitude(address): \n",
    "    try:\n",
    "        url = base_url + address + '&key=' + api_key\n",
    "        url = re.sub('\\\\s', '+', url)\n",
    "        location_data = requests.get(url)\n",
    "        location_data = json.loads(location_data.text)\n",
    "        latitude = location_data['results'][0]['geometry']['location']['lat']\n",
    "        latitude = float(latitude)\n",
    "    \n",
    "    except TypeError:\n",
    "        latitude = np.NaN\n",
    "    except IndexError:\n",
    "        latitude = np.NaN\n",
    "        \n",
    "    return (latitude)"
   ]
  },
  {
   "cell_type": "code",
   "execution_count": 21,
   "metadata": {},
   "outputs": [],
   "source": [
    "# applying function to our DF --> returns geocoordinates of our monuments\n",
    "paris[\"longitude\"] = paris.apply(lambda row: get_longitude(row['monument']), axis=1)\n",
    "paris[\"latitude\"] = paris.apply(lambda row: get_latitude(row['monument']), axis=1)"
   ]
  },
  {
   "cell_type": "code",
   "execution_count": 22,
   "metadata": {
    "scrolled": true
   },
   "outputs": [
    {
     "data": {
      "text/html": [
       "<div>\n",
       "<style scoped>\n",
       "    .dataframe tbody tr th:only-of-type {\n",
       "        vertical-align: middle;\n",
       "    }\n",
       "\n",
       "    .dataframe tbody tr th {\n",
       "        vertical-align: top;\n",
       "    }\n",
       "\n",
       "    .dataframe thead th {\n",
       "        text-align: right;\n",
       "    }\n",
       "</style>\n",
       "<table border=\"1\" class=\"dataframe\">\n",
       "  <thead>\n",
       "    <tr style=\"text-align: right;\">\n",
       "      <th></th>\n",
       "      <th>monument</th>\n",
       "      <th>category</th>\n",
       "      <th>longitude</th>\n",
       "      <th>latitude</th>\n",
       "    </tr>\n",
       "  </thead>\n",
       "  <tbody>\n",
       "    <tr>\n",
       "      <th>0</th>\n",
       "      <td>Arc de triomphe du Carrousel</td>\n",
       "      <td>Arcs et arches</td>\n",
       "      <td>2.332895</td>\n",
       "      <td>48.861713</td>\n",
       "    </tr>\n",
       "    <tr>\n",
       "      <th>1</th>\n",
       "      <td>Arc de triomphe de l'Étoile</td>\n",
       "      <td>Arcs et arches</td>\n",
       "      <td>2.295028</td>\n",
       "      <td>48.873792</td>\n",
       "    </tr>\n",
       "    <tr>\n",
       "      <th>2</th>\n",
       "      <td>Arche de la Défense</td>\n",
       "      <td>Arcs et arches</td>\n",
       "      <td>2.236112</td>\n",
       "      <td>48.892598</td>\n",
       "    </tr>\n",
       "    <tr>\n",
       "      <th>3</th>\n",
       "      <td>Porte Saint-Denis</td>\n",
       "      <td>Arcs et arches</td>\n",
       "      <td>2.352695</td>\n",
       "      <td>48.869805</td>\n",
       "    </tr>\n",
       "    <tr>\n",
       "      <th>4</th>\n",
       "      <td>Porte Saint-Martin</td>\n",
       "      <td>Arcs et arches</td>\n",
       "      <td>2.356311</td>\n",
       "      <td>48.869065</td>\n",
       "    </tr>\n",
       "  </tbody>\n",
       "</table>\n",
       "</div>"
      ],
      "text/plain": [
       "                       monument        category  longitude   latitude\n",
       "0  Arc de triomphe du Carrousel  Arcs et arches   2.332895  48.861713\n",
       "1   Arc de triomphe de l'Étoile  Arcs et arches   2.295028  48.873792\n",
       "2           Arche de la Défense  Arcs et arches   2.236112  48.892598\n",
       "3             Porte Saint-Denis  Arcs et arches   2.352695  48.869805\n",
       "4            Porte Saint-Martin  Arcs et arches   2.356311  48.869065"
      ]
     },
     "execution_count": 22,
     "metadata": {},
     "output_type": "execute_result"
    }
   ],
   "source": [
    "paris.head()"
   ]
  },
  {
   "cell_type": "markdown",
   "metadata": {},
   "source": [
    "# Part 3 - Plotting into a map "
   ]
  },
  {
   "cell_type": "code",
   "execution_count": 23,
   "metadata": {},
   "outputs": [],
   "source": [
    "import plotly.express as px\n",
    "#plotly express allows return of easily plotable figures w/o much code \n",
    "#javascript line bellow allows to increase output size in notebook"
   ]
  },
  {
   "cell_type": "code",
   "execution_count": 24,
   "metadata": {},
   "outputs": [
    {
     "data": {
      "application/javascript": [
       "IPython.OutputArea.auto_scroll_threshold = 9999; \n",
       "\n",
       "\n"
      ],
      "text/plain": [
       "<IPython.core.display.Javascript object>"
      ]
     },
     "metadata": {},
     "output_type": "display_data"
    }
   ],
   "source": [
    "%%javascript\n",
    "IPython.OutputArea.auto_scroll_threshold = 9999; \n",
    "\n",
    "\n"
   ]
  },
  {
   "cell_type": "code",
   "execution_count": 27,
   "metadata": {},
   "outputs": [
    {
     "data": {
      "application/vnd.plotly.v1+json": {
       "config": {
        "plotlyServerURL": "https://plot.ly"
       },
       "data": [
        {
         "hovertemplate": "<b>%{hovertext}</b><br><br>category=Arcs et arches<br>latitude=%{lat}<br>longitude=%{lon}<extra></extra>",
         "hovertext": [
          "Arc de triomphe du Carrousel",
          "Arc de triomphe de l'Étoile",
          "Arche de la Défense",
          "Porte Saint-Denis",
          "Porte Saint-Martin"
         ],
         "lat": [
          48.86171299999999,
          48.8737917,
          48.8925978,
          48.8698053,
          48.86906459999999
         ],
         "legendgroup": "Arcs et arches",
         "lon": [
          2.3328946,
          2.2950275,
          2.2361121,
          2.3526948,
          2.3563112
         ],
         "marker": {
          "color": "#636efa"
         },
         "mode": "markers",
         "name": "Arcs et arches",
         "showlegend": true,
         "subplot": "mapbox",
         "type": "scattermapbox"
        },
        {
         "hovertemplate": "<b>%{hovertext}</b><br><br>category=Colonnes et obélisques<br>latitude=%{lat}<br>longitude=%{lon}<extra></extra>",
         "hovertext": [
          "Colonne Médicis",
          "Colonne de Juillet, place de la Bastille",
          "Colonne Vendôme, place Vendôme",
          "Obélisque de Louxor, place de la Concorde",
          "Barrière du Trône, avenue du Trône"
         ],
         "lat": [
          null,
          48.8531912,
          48.8674729,
          48.86547849999999,
          48.84798
         ],
         "legendgroup": "Colonnes et obélisques",
         "lon": [
          null,
          2.3691477,
          2.3294445,
          2.3211193,
          2.3984375
         ],
         "marker": {
          "color": "#EF553B"
         },
         "mode": "markers",
         "name": "Colonnes et obélisques",
         "showlegend": true,
         "subplot": "mapbox",
         "type": "scattermapbox"
        },
        {
         "hovertemplate": "<b>%{hovertext}</b><br><br>category=Fontaines célèbres<br>latitude=%{lat}<br>longitude=%{lon}<extra></extra>",
         "hovertext": [
          "Fontaine des Innocents, square des Innocents, Paris 1er",
          "Fontaine du Palmier (ou fontaine de la Victoire), place du Châtelet, Paris 1er",
          "Fontaine Stravinsky, à proximité du centre Beaubourg, Paris 3e",
          "Fontaine Saint-Michel, place Saint-Michel, Paris 6e",
          "Fontaine Saint-Sulpice, place Saint-Sulpice, Paris 6e",
          "Fontaine Médicis, jardin du Luxembourg, Paris 6e",
          "Fontaine l'Embâcle, place du Québec, Paris 6e",
          "Fontaine des Quatre-Parties-du-Monde, Paris 6e",
          "Fontaine des Quatre-Saisons, rue de Grenelle, Paris 7e",
          "Fontaine des Fleuves et Fontaine des Mers, place de la Concorde, Paris 8e"
         ],
         "lat": [
          48.860647,
          48.85749759999999,
          48.859478,
          48.8530683,
          48.8508333,
          48.8480528,
          48.8535757,
          48.8410899,
          48.8546948,
          48.8649451
         ],
         "legendgroup": "Fontaines célèbres",
         "lon": [
          2.3480327,
          2.3472993,
          2.351546,
          2.343383,
          2.3333333,
          2.3393271,
          2.3331873,
          2.3368246,
          2.3251279,
          2.3207429
         ],
         "marker": {
          "color": "#00cc96"
         },
         "mode": "markers",
         "name": "Fontaines célèbres",
         "showlegend": true,
         "subplot": "mapbox",
         "type": "scattermapbox"
        },
        {
         "hovertemplate": "<b>%{hovertext}</b><br><br>category=Statues remarquables<br>latitude=%{lat}<br>longitude=%{lon}<extra></extra>",
         "hovertext": [
          "La statue équestre d'Henri IV, sur le Pont Neuf",
          "La statue équestre de Louis XIII, place des Vosges",
          "La statue équestre de Louis XIV, place des Victoires",
          "Le Monument à la République, place de la République",
          "Le Triomphe de la République, place de la Nation",
          "Les Chevaux de Marly, place de la Concorde",
          "Le Lion de Belfort, place Denfert-Rochereau",
          "Le Monument au maréchal Moncey, place de Clichy",
          "La statue de Balzac par Rodin, place Pablo-Picasso",
          "Les répliques de la Statue de la Liberté sur l'île aux Cygnes et dans le jardin du Luxembourg"
         ],
         "lat": [
          48.8571502,
          48.85561140000001,
          48.8657591,
          48.8675082,
          48.8483899,
          48.86513009999999,
          48.8343098,
          48.8835206,
          48.84246230000001,
          40.6892494
         ],
         "legendgroup": "Statues remarquables",
         "lon": [
          2.3409837,
          2.3655266,
          2.341196,
          2.3638198,
          2.3959213,
          2.3181452,
          2.3324486,
          2.3274285,
          2.3294573,
          -74.04450039999999
         ],
         "marker": {
          "color": "#ab63fa"
         },
         "mode": "markers",
         "name": "Statues remarquables",
         "showlegend": true,
         "subplot": "mapbox",
         "type": "scattermapbox"
        },
        {
         "hovertemplate": "<b>%{hovertext}</b><br><br>category=Musées<br>latitude=%{lat}<br>longitude=%{lon}<extra></extra>",
         "hovertext": [
          "Conciergerie, Paris 1er, ancienne résidence royale du Xe au XIVe siècle, devenue prison d'État. La reine Marie-Antoinette d'Autriche, épouse du roi Louis XVI de France y a été emprisonnée.",
          "Palais de Justice, Paris 1er, siège du parquet de Paris.",
          "Palais-Royal, Paris 1er, palais regroupant diverses institutions tels que le Conseil constitutionnel ou encore le ministère de la Culture et de la Communication.",
          "Palais Brongniart, Paris 2e, ancien siège de la Bourse de Paris, devenu centre de conférences. Elle accueille de même l'École européenne des métiers de l'Internet.",
          "Hôtel de Soubise, Paris 4e, siège des Archives nationale.",
          "Hôtel de Ville, Paris 4e, siège de la mairie de Paris.",
          "Hôtel de Sens, Paris 4e",
          "Panthéon, Paris 5e, où sont enterrés les grandes personnalités qui ont contribué à la grandeur de la France comme Victor Hugo, Jean Jaurès, Jean Moulin, ou encore Pierre et Marie Curie.",
          "Institut de France, Paris 6e, siège de l'Académie française et de sa bibliothèque Mazarine.",
          "Palais du Luxembourg, Paris 6e, siège du Sénat. Le Petit Luxembourg, résidence officielle du président du Sénat, est contigu au palais du Luxembourg, mais ne se visite guère.",
          "Palais de la Légion d'honneur, Paris 7e",
          "Palais Bourbon, Paris 7e, siège de l'Assemblée nationale. L'hôtel de Lassay, résidence du président de l'Assemblée nationale, est contigu au Palais Bourbon mais ne se visite guère.",
          "Hôtel des Invalides, Paris 7e",
          "Hôtel Matignon, Paris 7e, résidence officielle et bureau du chef du gouvernement depuis 1935.",
          "École militaire, Paris 7e",
          "Maison de l'UNESCO, Paris 7e",
          "Palais de l'Élysée, Paris 8e, résidence officielle et bureau du président de la République depuis 1878.",
          "Petit Palais,  Paris 8e, musée situé en face du Grand Palais.",
          "Grand Palais,  Paris 8e, musée situé en face du Petit Palais.",
          "Observatoire de Paris, Paris 14e",
          "Palais de Chaillot, Paris 16e"
         ],
         "lat": [
          48.8560114,
          48.8557234,
          48.8637569,
          48.8689653,
          48.8599697,
          48.8564826,
          48.8536577,
          48.8462218,
          48.8572862,
          48.84827110000001,
          48.8602017,
          48.86190329999999,
          48.85652899999999,
          48.8546418,
          48.8525155,
          48.8494517,
          48.8704156,
          48.8660479,
          48.8661091,
          48.8358925,
          48.8626979
         ],
         "legendgroup": "Musées",
         "lon": [
          2.3454953,
          2.3451467,
          2.3371261,
          2.3417723,
          2.3572959,
          2.3524135,
          2.3585614,
          2.3464138,
          2.3371276,
          2.3372934,
          2.3243919,
          2.3186484,
          2.3127059,
          2.3208778,
          2.3034894,
          2.3059379,
          2.3167539,
          2.3145896,
          2.3124544,
          2.3365123,
          2.2875026
         ],
         "marker": {
          "color": "#FFA15A"
         },
         "mode": "markers",
         "name": "Musées",
         "showlegend": true,
         "subplot": "mapbox",
         "type": "scattermapbox"
        },
        {
         "hovertemplate": "<b>%{hovertext}</b><br><br>category=Palais et bâtiments officiels<br>latitude=%{lat}<br>longitude=%{lon}<extra></extra>",
         "hovertext": [
          "Cathédrale Notre-Dame de Paris",
          "Sainte-Chapelle, Paris 1er",
          "Temple protestant de l'Oratoire du Louvre, Paris 1er",
          "Église Saint-Eustache, Paris 1er",
          "Église Saint-Germain-l'Auxerrois, Paris 1er",
          "Église Saint-Paul-Saint-Louis, Paris 4e",
          "Grande Mosquée de Paris, Paris 5e",
          "Église Saint-Séverin, Paris 5e",
          "Église Saint-Étienne-du-Mont, Paris 5e",
          "Église Saint-Sulpice, Paris 6e",
          "Église Saint-Germain-des-Prés, Paris 6e",
          "Basilique Sainte-Clotilde, Paris 7e",
          "Cathédrale orthodoxe russe de la Sainte-Trinité, Paris 7e",
          "Église Saint-Louis-des-Invalides, connue pour être le dôme des Invalides, Paris 7e",
          "Cathédrale américaine de la Sainte-Trinité, Paris 8e",
          "Église de la Madeleine, Paris 8e",
          "Basilique du Sacré-Cœur de Montmartre, Paris 18e"
         ],
         "lat": [
          48.85296820000001,
          48.8550418,
          48.8618556,
          48.8632001,
          48.8594978,
          48.8544675,
          48.8418416,
          48.8521993,
          48.8465392,
          48.8510095,
          48.8539896,
          48.858531,
          48.8618845,
          48.85652899999999,
          48.867421,
          48.8700435,
          48.88670459999999
         ],
         "legendgroup": "Palais et bâtiments officiels",
         "lon": [
          2.3499021,
          2.3452438,
          2.340225,
          2.3456097,
          2.3413833,
          2.3614508,
          2.355172,
          2.345442,
          2.348089700000001,
          2.3350091,
          2.3344943,
          2.3193114,
          2.3010112,
          2.3127059,
          2.300944,
          2.3245502,
          2.3431043
         ],
         "marker": {
          "color": "#19d3f3"
         },
         "mode": "markers",
         "name": "Palais et bâtiments officiels",
         "showlegend": true,
         "subplot": "mapbox",
         "type": "scattermapbox"
        },
        {
         "hovertemplate": "<b>%{hovertext}</b><br><br>category=Lieux de culte renommés<br>latitude=%{lat}<br>longitude=%{lon}<extra></extra>",
         "hovertext": [
          "Collège Stanislas",
          "Lycée Camille-Sée",
          "Lycée Chaptal",
          "Lycée Condorcet",
          "Lycée Henri-IV",
          "Sorbonne"
         ],
         "lat": [
          45.5180336,
          48.8430312,
          48.88173459999999,
          48.8747933,
          48.8462359,
          48.8496698
         ],
         "legendgroup": "Lieux de culte renommés",
         "lon": [
          -73.6150816,
          2.2972373,
          2.3196749,
          2.3269285,
          2.34793,
          2.3441061
         ],
         "marker": {
          "color": "#FF6692"
         },
         "mode": "markers",
         "name": "Lieux de culte renommés",
         "showlegend": true,
         "subplot": "mapbox",
         "type": "scattermapbox"
        },
        {
         "hovertemplate": "<b>%{hovertext}</b><br><br>category=Bâtiments scolaires et universitaires classés<br>latitude=%{lat}<br>longitude=%{lon}<extra></extra>",
         "hovertext": [
          "Bibliothèque nationale de France - François Mitterrand, Paris 13e",
          "Bibliothèque nationale de France - Richelieu, Paris 2e",
          "Bibliothèque Sainte-Geneviève"
         ],
         "lat": [
          48.8335842,
          48.8680388,
          48.8471667
         ],
         "legendgroup": "Bâtiments scolaires et universitaires classés",
         "lon": [
          2.3757659,
          2.3381821,
          2.3459855
         ],
         "marker": {
          "color": "#B6E880"
         },
         "mode": "markers",
         "name": "Bâtiments scolaires et universitaires classés",
         "showlegend": true,
         "subplot": "mapbox",
         "type": "scattermapbox"
        },
        {
         "hovertemplate": "<b>%{hovertext}</b><br><br>category=Bibliothèques<br>latitude=%{lat}<br>longitude=%{lon}<extra></extra>",
         "hovertext": [
          "Arènes de Lutèce, Paris 5e - Vestiges de la période gallo-romaine",
          "Thermes de Cluny, Paris 5e"
         ],
         "lat": [
          48.845116,
          48.8509031
         ],
         "legendgroup": "Bibliothèques",
         "lon": [
          2.3528366,
          2.3432146
         ],
         "marker": {
          "color": "#FF97FF"
         },
         "mode": "markers",
         "name": "Bibliothèques",
         "showlegend": true,
         "subplot": "mapbox",
         "type": "scattermapbox"
        },
        {
         "hovertemplate": "<b>%{hovertext}</b><br><br>category=Vestiges gallo-romains<br>latitude=%{lat}<br>longitude=%{lon}<extra></extra>",
         "hovertext": [
          "Tour Jean-sans-Peur, Paris 2e",
          "Tour Saint-Jacques, Paris 4e",
          "Tour Clovis (Lycée Henri-IV), Paris 5e",
          "Tour Jussieu (Université Paris VI), Paris 5e",
          "Tour Eiffel, Paris 7e",
          "Tour Montparnasse, Paris 15e",
          "Hôtel Hyatt Regency Paris Étoile (anciennement hôtel Concorde La Fayette), Paris 17e"
         ],
         "lat": [
          48.8643222,
          48.85806849999999,
          48.8462359,
          48.8464406,
          48.85837009999999,
          48.8421379,
          48.88046139999999
         ],
         "legendgroup": "Vestiges gallo-romains",
         "lon": [
          2.3480631,
          2.3489072,
          2.34793,
          2.3551613,
          2.2944813,
          2.3219514,
          2.2844977
         ],
         "marker": {
          "color": "#FECB52"
         },
         "mode": "markers",
         "name": "Vestiges gallo-romains",
         "showlegend": true,
         "subplot": "mapbox",
         "type": "scattermapbox"
        }
       ],
       "layout": {
        "height": 600,
        "legend": {
         "title": {
          "text": "category"
         },
         "tracegroupgap": 0
        },
        "mapbox": {
         "center": {
          "lat": 48.853,
          "lon": 2.33
         },
         "domain": {
          "x": [
           0,
           1
          ],
          "y": [
           0,
           1
          ]
         },
         "style": "stamen-toner",
         "zoom": 11
        },
        "template": {
         "data": {
          "bar": [
           {
            "error_x": {
             "color": "#2a3f5f"
            },
            "error_y": {
             "color": "#2a3f5f"
            },
            "marker": {
             "line": {
              "color": "#E5ECF6",
              "width": 0.5
             }
            },
            "type": "bar"
           }
          ],
          "barpolar": [
           {
            "marker": {
             "line": {
              "color": "#E5ECF6",
              "width": 0.5
             }
            },
            "type": "barpolar"
           }
          ],
          "carpet": [
           {
            "aaxis": {
             "endlinecolor": "#2a3f5f",
             "gridcolor": "white",
             "linecolor": "white",
             "minorgridcolor": "white",
             "startlinecolor": "#2a3f5f"
            },
            "baxis": {
             "endlinecolor": "#2a3f5f",
             "gridcolor": "white",
             "linecolor": "white",
             "minorgridcolor": "white",
             "startlinecolor": "#2a3f5f"
            },
            "type": "carpet"
           }
          ],
          "choropleth": [
           {
            "colorbar": {
             "outlinewidth": 0,
             "ticks": ""
            },
            "type": "choropleth"
           }
          ],
          "contour": [
           {
            "colorbar": {
             "outlinewidth": 0,
             "ticks": ""
            },
            "colorscale": [
             [
              0,
              "#0d0887"
             ],
             [
              0.1111111111111111,
              "#46039f"
             ],
             [
              0.2222222222222222,
              "#7201a8"
             ],
             [
              0.3333333333333333,
              "#9c179e"
             ],
             [
              0.4444444444444444,
              "#bd3786"
             ],
             [
              0.5555555555555556,
              "#d8576b"
             ],
             [
              0.6666666666666666,
              "#ed7953"
             ],
             [
              0.7777777777777778,
              "#fb9f3a"
             ],
             [
              0.8888888888888888,
              "#fdca26"
             ],
             [
              1,
              "#f0f921"
             ]
            ],
            "type": "contour"
           }
          ],
          "contourcarpet": [
           {
            "colorbar": {
             "outlinewidth": 0,
             "ticks": ""
            },
            "type": "contourcarpet"
           }
          ],
          "heatmap": [
           {
            "colorbar": {
             "outlinewidth": 0,
             "ticks": ""
            },
            "colorscale": [
             [
              0,
              "#0d0887"
             ],
             [
              0.1111111111111111,
              "#46039f"
             ],
             [
              0.2222222222222222,
              "#7201a8"
             ],
             [
              0.3333333333333333,
              "#9c179e"
             ],
             [
              0.4444444444444444,
              "#bd3786"
             ],
             [
              0.5555555555555556,
              "#d8576b"
             ],
             [
              0.6666666666666666,
              "#ed7953"
             ],
             [
              0.7777777777777778,
              "#fb9f3a"
             ],
             [
              0.8888888888888888,
              "#fdca26"
             ],
             [
              1,
              "#f0f921"
             ]
            ],
            "type": "heatmap"
           }
          ],
          "heatmapgl": [
           {
            "colorbar": {
             "outlinewidth": 0,
             "ticks": ""
            },
            "colorscale": [
             [
              0,
              "#0d0887"
             ],
             [
              0.1111111111111111,
              "#46039f"
             ],
             [
              0.2222222222222222,
              "#7201a8"
             ],
             [
              0.3333333333333333,
              "#9c179e"
             ],
             [
              0.4444444444444444,
              "#bd3786"
             ],
             [
              0.5555555555555556,
              "#d8576b"
             ],
             [
              0.6666666666666666,
              "#ed7953"
             ],
             [
              0.7777777777777778,
              "#fb9f3a"
             ],
             [
              0.8888888888888888,
              "#fdca26"
             ],
             [
              1,
              "#f0f921"
             ]
            ],
            "type": "heatmapgl"
           }
          ],
          "histogram": [
           {
            "marker": {
             "colorbar": {
              "outlinewidth": 0,
              "ticks": ""
             }
            },
            "type": "histogram"
           }
          ],
          "histogram2d": [
           {
            "colorbar": {
             "outlinewidth": 0,
             "ticks": ""
            },
            "colorscale": [
             [
              0,
              "#0d0887"
             ],
             [
              0.1111111111111111,
              "#46039f"
             ],
             [
              0.2222222222222222,
              "#7201a8"
             ],
             [
              0.3333333333333333,
              "#9c179e"
             ],
             [
              0.4444444444444444,
              "#bd3786"
             ],
             [
              0.5555555555555556,
              "#d8576b"
             ],
             [
              0.6666666666666666,
              "#ed7953"
             ],
             [
              0.7777777777777778,
              "#fb9f3a"
             ],
             [
              0.8888888888888888,
              "#fdca26"
             ],
             [
              1,
              "#f0f921"
             ]
            ],
            "type": "histogram2d"
           }
          ],
          "histogram2dcontour": [
           {
            "colorbar": {
             "outlinewidth": 0,
             "ticks": ""
            },
            "colorscale": [
             [
              0,
              "#0d0887"
             ],
             [
              0.1111111111111111,
              "#46039f"
             ],
             [
              0.2222222222222222,
              "#7201a8"
             ],
             [
              0.3333333333333333,
              "#9c179e"
             ],
             [
              0.4444444444444444,
              "#bd3786"
             ],
             [
              0.5555555555555556,
              "#d8576b"
             ],
             [
              0.6666666666666666,
              "#ed7953"
             ],
             [
              0.7777777777777778,
              "#fb9f3a"
             ],
             [
              0.8888888888888888,
              "#fdca26"
             ],
             [
              1,
              "#f0f921"
             ]
            ],
            "type": "histogram2dcontour"
           }
          ],
          "mesh3d": [
           {
            "colorbar": {
             "outlinewidth": 0,
             "ticks": ""
            },
            "type": "mesh3d"
           }
          ],
          "parcoords": [
           {
            "line": {
             "colorbar": {
              "outlinewidth": 0,
              "ticks": ""
             }
            },
            "type": "parcoords"
           }
          ],
          "pie": [
           {
            "automargin": true,
            "type": "pie"
           }
          ],
          "scatter": [
           {
            "marker": {
             "colorbar": {
              "outlinewidth": 0,
              "ticks": ""
             }
            },
            "type": "scatter"
           }
          ],
          "scatter3d": [
           {
            "line": {
             "colorbar": {
              "outlinewidth": 0,
              "ticks": ""
             }
            },
            "marker": {
             "colorbar": {
              "outlinewidth": 0,
              "ticks": ""
             }
            },
            "type": "scatter3d"
           }
          ],
          "scattercarpet": [
           {
            "marker": {
             "colorbar": {
              "outlinewidth": 0,
              "ticks": ""
             }
            },
            "type": "scattercarpet"
           }
          ],
          "scattergeo": [
           {
            "marker": {
             "colorbar": {
              "outlinewidth": 0,
              "ticks": ""
             }
            },
            "type": "scattergeo"
           }
          ],
          "scattergl": [
           {
            "marker": {
             "colorbar": {
              "outlinewidth": 0,
              "ticks": ""
             }
            },
            "type": "scattergl"
           }
          ],
          "scattermapbox": [
           {
            "marker": {
             "colorbar": {
              "outlinewidth": 0,
              "ticks": ""
             }
            },
            "type": "scattermapbox"
           }
          ],
          "scatterpolar": [
           {
            "marker": {
             "colorbar": {
              "outlinewidth": 0,
              "ticks": ""
             }
            },
            "type": "scatterpolar"
           }
          ],
          "scatterpolargl": [
           {
            "marker": {
             "colorbar": {
              "outlinewidth": 0,
              "ticks": ""
             }
            },
            "type": "scatterpolargl"
           }
          ],
          "scatterternary": [
           {
            "marker": {
             "colorbar": {
              "outlinewidth": 0,
              "ticks": ""
             }
            },
            "type": "scatterternary"
           }
          ],
          "surface": [
           {
            "colorbar": {
             "outlinewidth": 0,
             "ticks": ""
            },
            "colorscale": [
             [
              0,
              "#0d0887"
             ],
             [
              0.1111111111111111,
              "#46039f"
             ],
             [
              0.2222222222222222,
              "#7201a8"
             ],
             [
              0.3333333333333333,
              "#9c179e"
             ],
             [
              0.4444444444444444,
              "#bd3786"
             ],
             [
              0.5555555555555556,
              "#d8576b"
             ],
             [
              0.6666666666666666,
              "#ed7953"
             ],
             [
              0.7777777777777778,
              "#fb9f3a"
             ],
             [
              0.8888888888888888,
              "#fdca26"
             ],
             [
              1,
              "#f0f921"
             ]
            ],
            "type": "surface"
           }
          ],
          "table": [
           {
            "cells": {
             "fill": {
              "color": "#EBF0F8"
             },
             "line": {
              "color": "white"
             }
            },
            "header": {
             "fill": {
              "color": "#C8D4E3"
             },
             "line": {
              "color": "white"
             }
            },
            "type": "table"
           }
          ]
         },
         "layout": {
          "annotationdefaults": {
           "arrowcolor": "#2a3f5f",
           "arrowhead": 0,
           "arrowwidth": 1
          },
          "coloraxis": {
           "colorbar": {
            "outlinewidth": 0,
            "ticks": ""
           }
          },
          "colorscale": {
           "diverging": [
            [
             0,
             "#8e0152"
            ],
            [
             0.1,
             "#c51b7d"
            ],
            [
             0.2,
             "#de77ae"
            ],
            [
             0.3,
             "#f1b6da"
            ],
            [
             0.4,
             "#fde0ef"
            ],
            [
             0.5,
             "#f7f7f7"
            ],
            [
             0.6,
             "#e6f5d0"
            ],
            [
             0.7,
             "#b8e186"
            ],
            [
             0.8,
             "#7fbc41"
            ],
            [
             0.9,
             "#4d9221"
            ],
            [
             1,
             "#276419"
            ]
           ],
           "sequential": [
            [
             0,
             "#0d0887"
            ],
            [
             0.1111111111111111,
             "#46039f"
            ],
            [
             0.2222222222222222,
             "#7201a8"
            ],
            [
             0.3333333333333333,
             "#9c179e"
            ],
            [
             0.4444444444444444,
             "#bd3786"
            ],
            [
             0.5555555555555556,
             "#d8576b"
            ],
            [
             0.6666666666666666,
             "#ed7953"
            ],
            [
             0.7777777777777778,
             "#fb9f3a"
            ],
            [
             0.8888888888888888,
             "#fdca26"
            ],
            [
             1,
             "#f0f921"
            ]
           ],
           "sequentialminus": [
            [
             0,
             "#0d0887"
            ],
            [
             0.1111111111111111,
             "#46039f"
            ],
            [
             0.2222222222222222,
             "#7201a8"
            ],
            [
             0.3333333333333333,
             "#9c179e"
            ],
            [
             0.4444444444444444,
             "#bd3786"
            ],
            [
             0.5555555555555556,
             "#d8576b"
            ],
            [
             0.6666666666666666,
             "#ed7953"
            ],
            [
             0.7777777777777778,
             "#fb9f3a"
            ],
            [
             0.8888888888888888,
             "#fdca26"
            ],
            [
             1,
             "#f0f921"
            ]
           ]
          },
          "colorway": [
           "#636efa",
           "#EF553B",
           "#00cc96",
           "#ab63fa",
           "#FFA15A",
           "#19d3f3",
           "#FF6692",
           "#B6E880",
           "#FF97FF",
           "#FECB52"
          ],
          "font": {
           "color": "#2a3f5f"
          },
          "geo": {
           "bgcolor": "white",
           "lakecolor": "white",
           "landcolor": "#E5ECF6",
           "showlakes": true,
           "showland": true,
           "subunitcolor": "white"
          },
          "hoverlabel": {
           "align": "left"
          },
          "hovermode": "closest",
          "mapbox": {
           "style": "light"
          },
          "paper_bgcolor": "white",
          "plot_bgcolor": "#E5ECF6",
          "polar": {
           "angularaxis": {
            "gridcolor": "white",
            "linecolor": "white",
            "ticks": ""
           },
           "bgcolor": "#E5ECF6",
           "radialaxis": {
            "gridcolor": "white",
            "linecolor": "white",
            "ticks": ""
           }
          },
          "scene": {
           "xaxis": {
            "backgroundcolor": "#E5ECF6",
            "gridcolor": "white",
            "gridwidth": 2,
            "linecolor": "white",
            "showbackground": true,
            "ticks": "",
            "zerolinecolor": "white"
           },
           "yaxis": {
            "backgroundcolor": "#E5ECF6",
            "gridcolor": "white",
            "gridwidth": 2,
            "linecolor": "white",
            "showbackground": true,
            "ticks": "",
            "zerolinecolor": "white"
           },
           "zaxis": {
            "backgroundcolor": "#E5ECF6",
            "gridcolor": "white",
            "gridwidth": 2,
            "linecolor": "white",
            "showbackground": true,
            "ticks": "",
            "zerolinecolor": "white"
           }
          },
          "shapedefaults": {
           "line": {
            "color": "#2a3f5f"
           }
          },
          "ternary": {
           "aaxis": {
            "gridcolor": "white",
            "linecolor": "white",
            "ticks": ""
           },
           "baxis": {
            "gridcolor": "white",
            "linecolor": "white",
            "ticks": ""
           },
           "bgcolor": "#E5ECF6",
           "caxis": {
            "gridcolor": "white",
            "linecolor": "white",
            "ticks": ""
           }
          },
          "title": {
           "x": 0.05
          },
          "xaxis": {
           "automargin": true,
           "gridcolor": "white",
           "linecolor": "white",
           "ticks": "",
           "title": {
            "standoff": 15
           },
           "zerolinecolor": "white",
           "zerolinewidth": 2
          },
          "yaxis": {
           "automargin": true,
           "gridcolor": "white",
           "linecolor": "white",
           "ticks": "",
           "title": {
            "standoff": 15
           },
           "zerolinecolor": "white",
           "zerolinewidth": 2
          }
         }
        },
        "title": {
         "text": "Map of Paris Monuments"
        },
        "width": 1000
       }
      },
      "text/html": [
       "<div>                            <div id=\"3d08fed1-6743-4315-9540-7c5381d358d0\" class=\"plotly-graph-div\" style=\"height:600px; width:1000px;\"></div>            <script type=\"text/javascript\">                require([\"plotly\"], function(Plotly) {                    window.PLOTLYENV=window.PLOTLYENV || {};                                    if (document.getElementById(\"3d08fed1-6743-4315-9540-7c5381d358d0\")) {                    Plotly.newPlot(                        \"3d08fed1-6743-4315-9540-7c5381d358d0\",                        [{\"hovertemplate\": \"<b>%{hovertext}</b><br><br>category=Arcs et arches<br>latitude=%{lat}<br>longitude=%{lon}<extra></extra>\", \"hovertext\": [\"Arc de triomphe du Carrousel\", \"Arc de triomphe de l'\\u00c9toile\", \"Arche de la D\\u00e9fense\", \"Porte Saint-Denis\", \"Porte Saint-Martin\"], \"lat\": [48.86171299999999, 48.8737917, 48.8925978, 48.8698053, 48.86906459999999], \"legendgroup\": \"Arcs et arches\", \"lon\": [2.3328946, 2.2950275, 2.2361121, 2.3526948, 2.3563112], \"marker\": {\"color\": \"#636efa\"}, \"mode\": \"markers\", \"name\": \"Arcs et arches\", \"showlegend\": true, \"subplot\": \"mapbox\", \"type\": \"scattermapbox\"}, {\"hovertemplate\": \"<b>%{hovertext}</b><br><br>category=Colonnes et ob\\u00e9lisques<br>latitude=%{lat}<br>longitude=%{lon}<extra></extra>\", \"hovertext\": [\"Colonne M\\u00e9dicis\", \"Colonne de Juillet, place de la Bastille\", \"Colonne Vend\\u00f4me, place Vend\\u00f4me\", \"Ob\\u00e9lisque de Louxor, place de la Concorde\", \"Barri\\u00e8re du Tr\\u00f4ne, avenue du Tr\\u00f4ne\"], \"lat\": [null, 48.8531912, 48.8674729, 48.86547849999999, 48.84798], \"legendgroup\": \"Colonnes et ob\\u00e9lisques\", \"lon\": [null, 2.3691477, 2.3294445, 2.3211193, 2.3984375], \"marker\": {\"color\": \"#EF553B\"}, \"mode\": \"markers\", \"name\": \"Colonnes et ob\\u00e9lisques\", \"showlegend\": true, \"subplot\": \"mapbox\", \"type\": \"scattermapbox\"}, {\"hovertemplate\": \"<b>%{hovertext}</b><br><br>category=Fontaines c\\u00e9l\\u00e8bres<br>latitude=%{lat}<br>longitude=%{lon}<extra></extra>\", \"hovertext\": [\"Fontaine des Innocents, square des Innocents, Paris\\u00a01er\", \"Fontaine du Palmier (ou fontaine de la Victoire), place du Ch\\u00e2telet, Paris 1er\", \"Fontaine Stravinsky, \\u00e0 proximit\\u00e9 du centre Beaubourg, Paris\\u00a03e\", \"Fontaine Saint-Michel, place Saint-Michel, Paris\\u00a06e\", \"Fontaine Saint-Sulpice, place Saint-Sulpice, Paris 6e\", \"Fontaine M\\u00e9dicis, jardin du Luxembourg, Paris 6e\", \"Fontaine l'Emb\\u00e2cle, place du Qu\\u00e9bec, Paris 6e\", \"Fontaine des Quatre-Parties-du-Monde, Paris 6e\", \"Fontaine des Quatre-Saisons, rue de Grenelle, Paris\\u00a07e\", \"Fontaine des Fleuves et Fontaine des Mers, place de la Concorde, Paris\\u00a08e\"], \"lat\": [48.860647, 48.85749759999999, 48.859478, 48.8530683, 48.8508333, 48.8480528, 48.8535757, 48.8410899, 48.8546948, 48.8649451], \"legendgroup\": \"Fontaines c\\u00e9l\\u00e8bres\", \"lon\": [2.3480327, 2.3472993, 2.351546, 2.343383, 2.3333333, 2.3393271, 2.3331873, 2.3368246, 2.3251279, 2.3207429], \"marker\": {\"color\": \"#00cc96\"}, \"mode\": \"markers\", \"name\": \"Fontaines c\\u00e9l\\u00e8bres\", \"showlegend\": true, \"subplot\": \"mapbox\", \"type\": \"scattermapbox\"}, {\"hovertemplate\": \"<b>%{hovertext}</b><br><br>category=Statues remarquables<br>latitude=%{lat}<br>longitude=%{lon}<extra></extra>\", \"hovertext\": [\"La statue \\u00e9questre d'Henri IV, sur le Pont Neuf\", \"La statue \\u00e9questre de Louis XIII, place des Vosges\", \"La statue \\u00e9questre de Louis XIV, place des Victoires\", \"Le Monument \\u00e0 la R\\u00e9publique, place de la R\\u00e9publique\", \"Le Triomphe de la R\\u00e9publique, place de la Nation\", \"Les Chevaux de Marly, place de la Concorde\", \"Le Lion de Belfort, place Denfert-Rochereau\", \"Le Monument au mar\\u00e9chal Moncey, place de Clichy\", \"La statue de Balzac par Rodin, place Pablo-Picasso\", \"Les r\\u00e9pliques de la Statue de la Libert\\u00e9 sur l'\\u00eele aux Cygnes et dans le jardin du Luxembourg\"], \"lat\": [48.8571502, 48.85561140000001, 48.8657591, 48.8675082, 48.8483899, 48.86513009999999, 48.8343098, 48.8835206, 48.84246230000001, 40.6892494], \"legendgroup\": \"Statues remarquables\", \"lon\": [2.3409837, 2.3655266, 2.341196, 2.3638198, 2.3959213, 2.3181452, 2.3324486, 2.3274285, 2.3294573, -74.04450039999999], \"marker\": {\"color\": \"#ab63fa\"}, \"mode\": \"markers\", \"name\": \"Statues remarquables\", \"showlegend\": true, \"subplot\": \"mapbox\", \"type\": \"scattermapbox\"}, {\"hovertemplate\": \"<b>%{hovertext}</b><br><br>category=Mus\\u00e9es<br>latitude=%{lat}<br>longitude=%{lon}<extra></extra>\", \"hovertext\": [\"Conciergerie, Paris\\u00a01er, ancienne r\\u00e9sidence royale du Xe au XIVe\\u00a0si\\u00e8cle, devenue prison d'\\u00c9tat. La reine Marie-Antoinette d'Autriche, \\u00e9pouse du roi Louis XVI de France y a \\u00e9t\\u00e9 emprisonn\\u00e9e.\", \"Palais de Justice, Paris 1er, si\\u00e8ge du parquet de Paris.\", \"Palais-Royal, Paris 1er, palais regroupant diverses institutions tels que le Conseil constitutionnel ou encore le minist\\u00e8re de la Culture et de la Communication.\", \"Palais Brongniart, Paris 2e, ancien si\\u00e8ge de la Bourse de Paris, devenu centre de conf\\u00e9rences. Elle accueille de m\\u00eame l'\\u00c9cole europ\\u00e9enne des m\\u00e9tiers de l'Internet.\", \"H\\u00f4tel de Soubise, Paris 4e, si\\u00e8ge des Archives nationale.\", \"H\\u00f4tel de Ville, Paris 4e, si\\u00e8ge de la mairie de Paris.\", \"H\\u00f4tel de Sens, Paris 4e\", \"Panth\\u00e9on, Paris 5e, o\\u00f9 sont enterr\\u00e9s les grandes personnalit\\u00e9s qui ont contribu\\u00e9 \\u00e0 la grandeur de la France comme Victor Hugo, Jean Jaur\\u00e8s, Jean Moulin, ou encore Pierre et Marie Curie.\", \"Institut de France, Paris 6e, si\\u00e8ge de l'Acad\\u00e9mie fran\\u00e7aise et de sa biblioth\\u00e8que Mazarine.\", \"Palais du Luxembourg, Paris 6e, si\\u00e8ge du S\\u00e9nat. Le Petit Luxembourg, r\\u00e9sidence officielle du pr\\u00e9sident du S\\u00e9nat, est contigu au palais du Luxembourg, mais ne se visite gu\\u00e8re.\", \"Palais de la L\\u00e9gion d'honneur, Paris 7e\", \"Palais Bourbon, Paris 7e, si\\u00e8ge de l'Assembl\\u00e9e nationale. L'h\\u00f4tel de Lassay, r\\u00e9sidence du pr\\u00e9sident de l'Assembl\\u00e9e nationale, est contigu au Palais Bourbon mais ne se visite gu\\u00e8re.\", \"H\\u00f4tel des Invalides, Paris 7e\", \"H\\u00f4tel Matignon, Paris 7e, r\\u00e9sidence officielle et bureau du chef du gouvernement depuis 1935.\", \"\\u00c9cole militaire, Paris 7e\", \"Maison de l'UNESCO, Paris 7e\", \"Palais de l'\\u00c9lys\\u00e9e, Paris 8e, r\\u00e9sidence officielle et bureau du pr\\u00e9sident de la R\\u00e9publique depuis 1878.\", \"Petit Palais,  Paris 8e, mus\\u00e9e situ\\u00e9 en face du Grand Palais.\", \"Grand Palais,  Paris 8e, mus\\u00e9e situ\\u00e9 en face du Petit Palais.\", \"Observatoire de Paris, Paris 14e\", \"Palais de Chaillot, Paris 16e\"], \"lat\": [48.8560114, 48.8557234, 48.8637569, 48.8689653, 48.8599697, 48.8564826, 48.8536577, 48.8462218, 48.8572862, 48.84827110000001, 48.8602017, 48.86190329999999, 48.85652899999999, 48.8546418, 48.8525155, 48.8494517, 48.8704156, 48.8660479, 48.8661091, 48.8358925, 48.8626979], \"legendgroup\": \"Mus\\u00e9es\", \"lon\": [2.3454953, 2.3451467, 2.3371261, 2.3417723, 2.3572959, 2.3524135, 2.3585614, 2.3464138, 2.3371276, 2.3372934, 2.3243919, 2.3186484, 2.3127059, 2.3208778, 2.3034894, 2.3059379, 2.3167539, 2.3145896, 2.3124544, 2.3365123, 2.2875026], \"marker\": {\"color\": \"#FFA15A\"}, \"mode\": \"markers\", \"name\": \"Mus\\u00e9es\", \"showlegend\": true, \"subplot\": \"mapbox\", \"type\": \"scattermapbox\"}, {\"hovertemplate\": \"<b>%{hovertext}</b><br><br>category=Palais et b\\u00e2timents officiels<br>latitude=%{lat}<br>longitude=%{lon}<extra></extra>\", \"hovertext\": [\"Cath\\u00e9drale Notre-Dame de Paris\", \"Sainte-Chapelle, Paris 1er\", \"Temple protestant de l'Oratoire du Louvre, Paris 1er\", \"\\u00c9glise Saint-Eustache, Paris 1er\", \"\\u00c9glise Saint-Germain-l'Auxerrois, Paris 1er\", \"\\u00c9glise Saint-Paul-Saint-Louis, Paris 4e\", \"Grande Mosqu\\u00e9e de Paris, Paris 5e\", \"\\u00c9glise Saint-S\\u00e9verin, Paris 5e\", \"\\u00c9glise Saint-\\u00c9tienne-du-Mont, Paris 5e\", \"\\u00c9glise Saint-Sulpice, Paris 6e\", \"\\u00c9glise Saint-Germain-des-Pr\\u00e9s, Paris 6e\", \"Basilique Sainte-Clotilde, Paris 7e\", \"Cath\\u00e9drale orthodoxe russe de la Sainte-Trinit\\u00e9, Paris 7e\", \"\\u00c9glise Saint-Louis-des-Invalides, connue pour \\u00eatre le d\\u00f4me des Invalides, Paris 7e\", \"Cath\\u00e9drale am\\u00e9ricaine de la Sainte-Trinit\\u00e9, Paris 8e\", \"\\u00c9glise de la Madeleine, Paris 8e\", \"Basilique du Sacr\\u00e9-C\\u0153ur de Montmartre, Paris 18e\"], \"lat\": [48.85296820000001, 48.8550418, 48.8618556, 48.8632001, 48.8594978, 48.8544675, 48.8418416, 48.8521993, 48.8465392, 48.8510095, 48.8539896, 48.858531, 48.8618845, 48.85652899999999, 48.867421, 48.8700435, 48.88670459999999], \"legendgroup\": \"Palais et b\\u00e2timents officiels\", \"lon\": [2.3499021, 2.3452438, 2.340225, 2.3456097, 2.3413833, 2.3614508, 2.355172, 2.345442, 2.348089700000001, 2.3350091, 2.3344943, 2.3193114, 2.3010112, 2.3127059, 2.300944, 2.3245502, 2.3431043], \"marker\": {\"color\": \"#19d3f3\"}, \"mode\": \"markers\", \"name\": \"Palais et b\\u00e2timents officiels\", \"showlegend\": true, \"subplot\": \"mapbox\", \"type\": \"scattermapbox\"}, {\"hovertemplate\": \"<b>%{hovertext}</b><br><br>category=Lieux de culte renomm\\u00e9s<br>latitude=%{lat}<br>longitude=%{lon}<extra></extra>\", \"hovertext\": [\"Coll\\u00e8ge Stanislas\", \"Lyc\\u00e9e Camille-S\\u00e9e\", \"Lyc\\u00e9e Chaptal\", \"Lyc\\u00e9e Condorcet\", \"Lyc\\u00e9e Henri-IV\", \"Sorbonne\"], \"lat\": [45.5180336, 48.8430312, 48.88173459999999, 48.8747933, 48.8462359, 48.8496698], \"legendgroup\": \"Lieux de culte renomm\\u00e9s\", \"lon\": [-73.6150816, 2.2972373, 2.3196749, 2.3269285, 2.34793, 2.3441061], \"marker\": {\"color\": \"#FF6692\"}, \"mode\": \"markers\", \"name\": \"Lieux de culte renomm\\u00e9s\", \"showlegend\": true, \"subplot\": \"mapbox\", \"type\": \"scattermapbox\"}, {\"hovertemplate\": \"<b>%{hovertext}</b><br><br>category=B\\u00e2timents scolaires et universitaires class\\u00e9s<br>latitude=%{lat}<br>longitude=%{lon}<extra></extra>\", \"hovertext\": [\"Biblioth\\u00e8que nationale de France - Fran\\u00e7ois Mitterrand, Paris 13e\", \"Biblioth\\u00e8que nationale de France - Richelieu, Paris 2e\", \"Biblioth\\u00e8que Sainte-Genevi\\u00e8ve\"], \"lat\": [48.8335842, 48.8680388, 48.8471667], \"legendgroup\": \"B\\u00e2timents scolaires et universitaires class\\u00e9s\", \"lon\": [2.3757659, 2.3381821, 2.3459855], \"marker\": {\"color\": \"#B6E880\"}, \"mode\": \"markers\", \"name\": \"B\\u00e2timents scolaires et universitaires class\\u00e9s\", \"showlegend\": true, \"subplot\": \"mapbox\", \"type\": \"scattermapbox\"}, {\"hovertemplate\": \"<b>%{hovertext}</b><br><br>category=Biblioth\\u00e8ques<br>latitude=%{lat}<br>longitude=%{lon}<extra></extra>\", \"hovertext\": [\"Ar\\u00e8nes de Lut\\u00e8ce, Paris 5e - Vestiges de la p\\u00e9riode gallo-romaine\", \"Thermes de Cluny, Paris 5e\"], \"lat\": [48.845116, 48.8509031], \"legendgroup\": \"Biblioth\\u00e8ques\", \"lon\": [2.3528366, 2.3432146], \"marker\": {\"color\": \"#FF97FF\"}, \"mode\": \"markers\", \"name\": \"Biblioth\\u00e8ques\", \"showlegend\": true, \"subplot\": \"mapbox\", \"type\": \"scattermapbox\"}, {\"hovertemplate\": \"<b>%{hovertext}</b><br><br>category=Vestiges gallo-romains<br>latitude=%{lat}<br>longitude=%{lon}<extra></extra>\", \"hovertext\": [\"Tour Jean-sans-Peur, Paris 2e\", \"Tour Saint-Jacques, Paris 4e\", \"Tour Clovis (Lyc\\u00e9e Henri-IV), Paris 5e\", \"Tour Jussieu (Universit\\u00e9 Paris VI), Paris 5e\", \"Tour Eiffel, Paris 7e\", \"Tour Montparnasse, Paris 15e\", \"H\\u00f4tel Hyatt Regency Paris \\u00c9toile (anciennement h\\u00f4tel Concorde La Fayette), Paris 17e\"], \"lat\": [48.8643222, 48.85806849999999, 48.8462359, 48.8464406, 48.85837009999999, 48.8421379, 48.88046139999999], \"legendgroup\": \"Vestiges gallo-romains\", \"lon\": [2.3480631, 2.3489072, 2.34793, 2.3551613, 2.2944813, 2.3219514, 2.2844977], \"marker\": {\"color\": \"#FECB52\"}, \"mode\": \"markers\", \"name\": \"Vestiges gallo-romains\", \"showlegend\": true, \"subplot\": \"mapbox\", \"type\": \"scattermapbox\"}],                        {\"height\": 600, \"legend\": {\"title\": {\"text\": \"category\"}, \"tracegroupgap\": 0}, \"mapbox\": {\"center\": {\"lat\": 48.853, \"lon\": 2.33}, \"domain\": {\"x\": [0.0, 1.0], \"y\": [0.0, 1.0]}, \"style\": \"stamen-toner\", \"zoom\": 11}, \"template\": {\"data\": {\"bar\": [{\"error_x\": {\"color\": \"#2a3f5f\"}, \"error_y\": {\"color\": \"#2a3f5f\"}, \"marker\": {\"line\": {\"color\": \"#E5ECF6\", \"width\": 0.5}}, \"type\": \"bar\"}], \"barpolar\": [{\"marker\": {\"line\": {\"color\": \"#E5ECF6\", \"width\": 0.5}}, \"type\": \"barpolar\"}], \"carpet\": [{\"aaxis\": {\"endlinecolor\": \"#2a3f5f\", \"gridcolor\": \"white\", \"linecolor\": \"white\", \"minorgridcolor\": \"white\", \"startlinecolor\": \"#2a3f5f\"}, \"baxis\": {\"endlinecolor\": \"#2a3f5f\", \"gridcolor\": \"white\", \"linecolor\": \"white\", \"minorgridcolor\": \"white\", \"startlinecolor\": \"#2a3f5f\"}, \"type\": \"carpet\"}], \"choropleth\": [{\"colorbar\": {\"outlinewidth\": 0, \"ticks\": \"\"}, \"type\": \"choropleth\"}], \"contour\": [{\"colorbar\": {\"outlinewidth\": 0, \"ticks\": \"\"}, \"colorscale\": [[0.0, \"#0d0887\"], [0.1111111111111111, \"#46039f\"], [0.2222222222222222, \"#7201a8\"], [0.3333333333333333, \"#9c179e\"], [0.4444444444444444, \"#bd3786\"], [0.5555555555555556, \"#d8576b\"], [0.6666666666666666, \"#ed7953\"], [0.7777777777777778, \"#fb9f3a\"], [0.8888888888888888, \"#fdca26\"], [1.0, \"#f0f921\"]], \"type\": \"contour\"}], \"contourcarpet\": [{\"colorbar\": {\"outlinewidth\": 0, \"ticks\": \"\"}, \"type\": \"contourcarpet\"}], \"heatmap\": [{\"colorbar\": {\"outlinewidth\": 0, \"ticks\": \"\"}, \"colorscale\": [[0.0, \"#0d0887\"], [0.1111111111111111, \"#46039f\"], [0.2222222222222222, \"#7201a8\"], [0.3333333333333333, \"#9c179e\"], [0.4444444444444444, \"#bd3786\"], [0.5555555555555556, \"#d8576b\"], [0.6666666666666666, \"#ed7953\"], [0.7777777777777778, \"#fb9f3a\"], [0.8888888888888888, \"#fdca26\"], [1.0, \"#f0f921\"]], \"type\": \"heatmap\"}], \"heatmapgl\": [{\"colorbar\": {\"outlinewidth\": 0, \"ticks\": \"\"}, \"colorscale\": [[0.0, \"#0d0887\"], [0.1111111111111111, \"#46039f\"], [0.2222222222222222, \"#7201a8\"], [0.3333333333333333, \"#9c179e\"], [0.4444444444444444, \"#bd3786\"], [0.5555555555555556, \"#d8576b\"], [0.6666666666666666, \"#ed7953\"], [0.7777777777777778, \"#fb9f3a\"], [0.8888888888888888, \"#fdca26\"], [1.0, \"#f0f921\"]], \"type\": \"heatmapgl\"}], \"histogram\": [{\"marker\": {\"colorbar\": {\"outlinewidth\": 0, \"ticks\": \"\"}}, \"type\": \"histogram\"}], \"histogram2d\": [{\"colorbar\": {\"outlinewidth\": 0, \"ticks\": \"\"}, \"colorscale\": [[0.0, \"#0d0887\"], [0.1111111111111111, \"#46039f\"], [0.2222222222222222, \"#7201a8\"], [0.3333333333333333, \"#9c179e\"], [0.4444444444444444, \"#bd3786\"], [0.5555555555555556, \"#d8576b\"], [0.6666666666666666, \"#ed7953\"], [0.7777777777777778, \"#fb9f3a\"], [0.8888888888888888, \"#fdca26\"], [1.0, \"#f0f921\"]], \"type\": \"histogram2d\"}], \"histogram2dcontour\": [{\"colorbar\": {\"outlinewidth\": 0, \"ticks\": \"\"}, \"colorscale\": [[0.0, \"#0d0887\"], [0.1111111111111111, \"#46039f\"], [0.2222222222222222, \"#7201a8\"], [0.3333333333333333, \"#9c179e\"], [0.4444444444444444, \"#bd3786\"], [0.5555555555555556, \"#d8576b\"], [0.6666666666666666, \"#ed7953\"], [0.7777777777777778, \"#fb9f3a\"], [0.8888888888888888, \"#fdca26\"], [1.0, \"#f0f921\"]], \"type\": \"histogram2dcontour\"}], \"mesh3d\": [{\"colorbar\": {\"outlinewidth\": 0, \"ticks\": \"\"}, \"type\": \"mesh3d\"}], \"parcoords\": [{\"line\": {\"colorbar\": {\"outlinewidth\": 0, \"ticks\": \"\"}}, \"type\": \"parcoords\"}], \"pie\": [{\"automargin\": true, \"type\": \"pie\"}], \"scatter\": [{\"marker\": {\"colorbar\": {\"outlinewidth\": 0, \"ticks\": \"\"}}, \"type\": \"scatter\"}], \"scatter3d\": [{\"line\": {\"colorbar\": {\"outlinewidth\": 0, \"ticks\": \"\"}}, \"marker\": {\"colorbar\": {\"outlinewidth\": 0, \"ticks\": \"\"}}, \"type\": \"scatter3d\"}], \"scattercarpet\": [{\"marker\": {\"colorbar\": {\"outlinewidth\": 0, \"ticks\": \"\"}}, \"type\": \"scattercarpet\"}], \"scattergeo\": [{\"marker\": {\"colorbar\": {\"outlinewidth\": 0, \"ticks\": \"\"}}, \"type\": \"scattergeo\"}], \"scattergl\": [{\"marker\": {\"colorbar\": {\"outlinewidth\": 0, \"ticks\": \"\"}}, \"type\": \"scattergl\"}], \"scattermapbox\": [{\"marker\": {\"colorbar\": {\"outlinewidth\": 0, \"ticks\": \"\"}}, \"type\": \"scattermapbox\"}], \"scatterpolar\": [{\"marker\": {\"colorbar\": {\"outlinewidth\": 0, \"ticks\": \"\"}}, \"type\": \"scatterpolar\"}], \"scatterpolargl\": [{\"marker\": {\"colorbar\": {\"outlinewidth\": 0, \"ticks\": \"\"}}, \"type\": \"scatterpolargl\"}], \"scatterternary\": [{\"marker\": {\"colorbar\": {\"outlinewidth\": 0, \"ticks\": \"\"}}, \"type\": \"scatterternary\"}], \"surface\": [{\"colorbar\": {\"outlinewidth\": 0, \"ticks\": \"\"}, \"colorscale\": [[0.0, \"#0d0887\"], [0.1111111111111111, \"#46039f\"], [0.2222222222222222, \"#7201a8\"], [0.3333333333333333, \"#9c179e\"], [0.4444444444444444, \"#bd3786\"], [0.5555555555555556, \"#d8576b\"], [0.6666666666666666, \"#ed7953\"], [0.7777777777777778, \"#fb9f3a\"], [0.8888888888888888, \"#fdca26\"], [1.0, \"#f0f921\"]], \"type\": \"surface\"}], \"table\": [{\"cells\": {\"fill\": {\"color\": \"#EBF0F8\"}, \"line\": {\"color\": \"white\"}}, \"header\": {\"fill\": {\"color\": \"#C8D4E3\"}, \"line\": {\"color\": \"white\"}}, \"type\": \"table\"}]}, \"layout\": {\"annotationdefaults\": {\"arrowcolor\": \"#2a3f5f\", \"arrowhead\": 0, \"arrowwidth\": 1}, \"coloraxis\": {\"colorbar\": {\"outlinewidth\": 0, \"ticks\": \"\"}}, \"colorscale\": {\"diverging\": [[0, \"#8e0152\"], [0.1, \"#c51b7d\"], [0.2, \"#de77ae\"], [0.3, \"#f1b6da\"], [0.4, \"#fde0ef\"], [0.5, \"#f7f7f7\"], [0.6, \"#e6f5d0\"], [0.7, \"#b8e186\"], [0.8, \"#7fbc41\"], [0.9, \"#4d9221\"], [1, \"#276419\"]], \"sequential\": [[0.0, \"#0d0887\"], [0.1111111111111111, \"#46039f\"], [0.2222222222222222, \"#7201a8\"], [0.3333333333333333, \"#9c179e\"], [0.4444444444444444, \"#bd3786\"], [0.5555555555555556, \"#d8576b\"], [0.6666666666666666, \"#ed7953\"], [0.7777777777777778, \"#fb9f3a\"], [0.8888888888888888, \"#fdca26\"], [1.0, \"#f0f921\"]], \"sequentialminus\": [[0.0, \"#0d0887\"], [0.1111111111111111, \"#46039f\"], [0.2222222222222222, \"#7201a8\"], [0.3333333333333333, \"#9c179e\"], [0.4444444444444444, \"#bd3786\"], [0.5555555555555556, \"#d8576b\"], [0.6666666666666666, \"#ed7953\"], [0.7777777777777778, \"#fb9f3a\"], [0.8888888888888888, \"#fdca26\"], [1.0, \"#f0f921\"]]}, \"colorway\": [\"#636efa\", \"#EF553B\", \"#00cc96\", \"#ab63fa\", \"#FFA15A\", \"#19d3f3\", \"#FF6692\", \"#B6E880\", \"#FF97FF\", \"#FECB52\"], \"font\": {\"color\": \"#2a3f5f\"}, \"geo\": {\"bgcolor\": \"white\", \"lakecolor\": \"white\", \"landcolor\": \"#E5ECF6\", \"showlakes\": true, \"showland\": true, \"subunitcolor\": \"white\"}, \"hoverlabel\": {\"align\": \"left\"}, \"hovermode\": \"closest\", \"mapbox\": {\"style\": \"light\"}, \"paper_bgcolor\": \"white\", \"plot_bgcolor\": \"#E5ECF6\", \"polar\": {\"angularaxis\": {\"gridcolor\": \"white\", \"linecolor\": \"white\", \"ticks\": \"\"}, \"bgcolor\": \"#E5ECF6\", \"radialaxis\": {\"gridcolor\": \"white\", \"linecolor\": \"white\", \"ticks\": \"\"}}, \"scene\": {\"xaxis\": {\"backgroundcolor\": \"#E5ECF6\", \"gridcolor\": \"white\", \"gridwidth\": 2, \"linecolor\": \"white\", \"showbackground\": true, \"ticks\": \"\", \"zerolinecolor\": \"white\"}, \"yaxis\": {\"backgroundcolor\": \"#E5ECF6\", \"gridcolor\": \"white\", \"gridwidth\": 2, \"linecolor\": \"white\", \"showbackground\": true, \"ticks\": \"\", \"zerolinecolor\": \"white\"}, \"zaxis\": {\"backgroundcolor\": \"#E5ECF6\", \"gridcolor\": \"white\", \"gridwidth\": 2, \"linecolor\": \"white\", \"showbackground\": true, \"ticks\": \"\", \"zerolinecolor\": \"white\"}}, \"shapedefaults\": {\"line\": {\"color\": \"#2a3f5f\"}}, \"ternary\": {\"aaxis\": {\"gridcolor\": \"white\", \"linecolor\": \"white\", \"ticks\": \"\"}, \"baxis\": {\"gridcolor\": \"white\", \"linecolor\": \"white\", \"ticks\": \"\"}, \"bgcolor\": \"#E5ECF6\", \"caxis\": {\"gridcolor\": \"white\", \"linecolor\": \"white\", \"ticks\": \"\"}}, \"title\": {\"x\": 0.05}, \"xaxis\": {\"automargin\": true, \"gridcolor\": \"white\", \"linecolor\": \"white\", \"ticks\": \"\", \"title\": {\"standoff\": 15}, \"zerolinecolor\": \"white\", \"zerolinewidth\": 2}, \"yaxis\": {\"automargin\": true, \"gridcolor\": \"white\", \"linecolor\": \"white\", \"ticks\": \"\", \"title\": {\"standoff\": 15}, \"zerolinecolor\": \"white\", \"zerolinewidth\": 2}}}, \"title\": {\"text\": \"Map of Paris Monuments\"}, \"width\": 1000},                        {\"responsive\": true}                    ).then(function(){\n",
       "                            \n",
       "var gd = document.getElementById('3d08fed1-6743-4315-9540-7c5381d358d0');\n",
       "var x = new MutationObserver(function (mutations, observer) {{\n",
       "        var display = window.getComputedStyle(gd).display;\n",
       "        if (!display || display === 'none') {{\n",
       "            console.log([gd, 'removed!']);\n",
       "            Plotly.purge(gd);\n",
       "            observer.disconnect();\n",
       "        }}\n",
       "}});\n",
       "\n",
       "// Listen for the removal of the full notebook cells\n",
       "var notebookContainer = gd.closest('#notebook-container');\n",
       "if (notebookContainer) {{\n",
       "    x.observe(notebookContainer, {childList: true});\n",
       "}}\n",
       "\n",
       "// Listen for the clearing of the current output cell\n",
       "var outputEl = gd.closest('.output');\n",
       "if (outputEl) {{\n",
       "    x.observe(outputEl, {childList: true});\n",
       "}}\n",
       "\n",
       "                        })                };                });            </script>        </div>"
      ]
     },
     "metadata": {},
     "output_type": "display_data"
    }
   ],
   "source": [
    "\n",
    "fig = px.scatter_mapbox(paris, title =\"Map of Paris Monuments\", \n",
    "                        width=1000, height = 600, \n",
    "                        lat=\"latitude\", lon=\"longitude\", \n",
    "                        color=\"category\", hover_name = \"monument\",\n",
    "                        zoom=11, mapbox_style=\"stamen-toner\", \n",
    "                        center = {\"lat\": 48.8530, \"lon\" : 2.330}) #this line allows to better center the map\n",
    "fig.show()"
   ]
  },
  {
   "cell_type": "code",
   "execution_count": null,
   "metadata": {},
   "outputs": [],
   "source": []
  }
 ],
 "metadata": {
  "kernelspec": {
   "display_name": "Python 3",
   "language": "python",
   "name": "python3"
  },
  "language_info": {
   "codemirror_mode": {
    "name": "ipython",
    "version": 3
   },
   "file_extension": ".py",
   "mimetype": "text/x-python",
   "name": "python",
   "nbconvert_exporter": "python",
   "pygments_lexer": "ipython3",
   "version": "3.8.3"
  }
 },
 "nbformat": 4,
 "nbformat_minor": 4
}
