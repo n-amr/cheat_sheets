{
 "cells": [
  {
   "cell_type": "markdown",
   "metadata": {},
   "source": [
    "# S3 instances and Boto3"
   ]
  },
  {
   "cell_type": "code",
   "execution_count": 2,
   "metadata": {},
   "outputs": [
    {
     "name": "stdout",
     "output_type": "stream",
     "text": [
      "Collecting Boto3\n",
      "  Downloading boto3-1.16.18-py2.py3-none-any.whl (129 kB)\n",
      "\u001b[K     |████████████████████████████████| 129 kB 1.3 MB/s eta 0:00:01\n",
      "\u001b[?25hRequirement already satisfied: jmespath<1.0.0,>=0.7.1 in /Users/personal/opt/anaconda3/lib/python3.8/site-packages (from Boto3) (0.10.0)\n",
      "Collecting s3transfer<0.4.0,>=0.3.0\n",
      "  Downloading s3transfer-0.3.3-py2.py3-none-any.whl (69 kB)\n",
      "\u001b[K     |████████████████████████████████| 69 kB 1.3 MB/s eta 0:00:01\n",
      "\u001b[?25hCollecting botocore<1.20.0,>=1.19.18\n",
      "  Downloading botocore-1.19.18-py2.py3-none-any.whl (6.8 MB)\n",
      "\u001b[K     |████████████████████████████████| 6.8 MB 50 kB/s  eta 0:00:01     |███████████████▎                | 3.2 MB 1.4 MB/s eta 0:00:03     |█████████████████               | 3.6 MB 1.4 MB/s eta 0:00:03\n",
      "\u001b[?25hRequirement already satisfied: urllib3<1.27,>=1.25.4; python_version != \"3.4\" in /Users/personal/opt/anaconda3/lib/python3.8/site-packages (from botocore<1.20.0,>=1.19.18->Boto3) (1.25.9)\n",
      "Requirement already satisfied: python-dateutil<3.0.0,>=2.1 in /Users/personal/opt/anaconda3/lib/python3.8/site-packages (from botocore<1.20.0,>=1.19.18->Boto3) (2.8.1)\n",
      "Requirement already satisfied: six>=1.5 in /Users/personal/opt/anaconda3/lib/python3.8/site-packages (from python-dateutil<3.0.0,>=2.1->botocore<1.20.0,>=1.19.18->Boto3) (1.15.0)\n",
      "Installing collected packages: botocore, s3transfer, Boto3\n",
      "Successfully installed Boto3-1.16.18 botocore-1.19.18 s3transfer-0.3.3\n"
     ]
    }
   ],
   "source": [
    "!pip install Boto3"
   ]
  },
  {
   "cell_type": "code",
   "execution_count": 1,
   "metadata": {},
   "outputs": [],
   "source": [
    "import boto3"
   ]
  },
  {
   "cell_type": "code",
   "execution_count": 2,
   "metadata": {},
   "outputs": [],
   "source": [
    "# first create a session with your access keys \n",
    "\n",
    "YOUR_ACCESS_KEY = \"\"\n",
    "YOUR_SECRET_KEY = \"\"\n",
    "\n",
    "session = boto3.Session(aws_access_key_id= YOUR_ACCESS_KEY, \n",
    "                        aws_secret_access_key= YOUR_SECRET_KEY)"
   ]
  },
  {
   "cell_type": "code",
   "execution_count": 3,
   "metadata": {},
   "outputs": [],
   "source": [
    "# now set up a resource or a client in order to interact with your s3 instance. \n",
    "# resource --> high_level_api \n",
    "# client --> low_level api\n",
    "\n",
    "\n",
    "s3 = session.resource(\"s3\")\n",
    "client = session.client(\"s3\")\n"
   ]
  },
  {
   "cell_type": "markdown",
   "metadata": {},
   "source": [
    "### Creating a new bucket"
   ]
  },
  {
   "cell_type": "code",
   "execution_count": 4,
   "metadata": {},
   "outputs": [],
   "source": [
    "# using resource\n",
    "bucket_1 = s3.create_bucket(Bucket = \"n-amr-demo-bucket-1\") \n",
    "\n",
    "# using client\n",
    "bucket_2 = client.create_bucket(Bucket = \"n-amr-demo-bucket-2\")\n",
    "\n",
    "bucket_3 = client.create_bucket(Bucket = \"n-amr-demo-bucket-3\")"
   ]
  },
  {
   "cell_type": "markdown",
   "metadata": {},
   "source": [
    "### Displaying all buckets"
   ]
  },
  {
   "cell_type": "code",
   "execution_count": 5,
   "metadata": {},
   "outputs": [
    {
     "name": "stdout",
     "output_type": "stream",
     "text": [
      "n-amr-demo-bucket-1\n",
      "n-amr-demo-bucket-2\n",
      "n-amr-demo-bucket-3\n"
     ]
    }
   ],
   "source": [
    "# using resource\n",
    "for bucket in s3.buckets.all():\n",
    "    print(bucket.name)"
   ]
  },
  {
   "cell_type": "code",
   "execution_count": 6,
   "metadata": {},
   "outputs": [
    {
     "name": "stdout",
     "output_type": "stream",
     "text": [
      "n-amr-demo-bucket-1\n",
      "n-amr-demo-bucket-2\n",
      "n-amr-demo-bucket-3\n"
     ]
    }
   ],
   "source": [
    "# using client --> returns a dicitonary \n",
    "for bucket in client.list_buckets()[\"Buckets\"]: \n",
    "    print(bucket[\"Name\"])"
   ]
  },
  {
   "cell_type": "markdown",
   "metadata": {},
   "source": [
    "### Deleting a bucket"
   ]
  },
  {
   "cell_type": "code",
   "execution_count": 7,
   "metadata": {},
   "outputs": [
    {
     "data": {
      "text/plain": [
       "{'ResponseMetadata': {'RequestId': 'C2A42A0E3BBE7030',\n",
       "  'HostId': 'tRvbqjmF66cb5iWeGAamvapvk7eexN4PGFyT7JYrhA7SCtOzOtrIEr6afLXtgxRBINfzLB7DdK0=',\n",
       "  'HTTPStatusCode': 204,\n",
       "  'HTTPHeaders': {'x-amz-id-2': 'tRvbqjmF66cb5iWeGAamvapvk7eexN4PGFyT7JYrhA7SCtOzOtrIEr6afLXtgxRBINfzLB7DdK0=',\n",
       "   'x-amz-request-id': 'C2A42A0E3BBE7030',\n",
       "   'date': 'Sun, 15 Nov 2020 13:07:04 GMT',\n",
       "   'server': 'AmazonS3'},\n",
       "  'RetryAttempts': 0}}"
      ]
     },
     "execution_count": 7,
     "metadata": {},
     "output_type": "execute_result"
    }
   ],
   "source": [
    "# using client\n",
    "client.delete_bucket(Bucket='n-amr-demo-bucket-3')\n"
   ]
  },
  {
   "cell_type": "code",
   "execution_count": 8,
   "metadata": {},
   "outputs": [
    {
     "data": {
      "text/plain": [
       "['n-amr-demo-bucket-1', 'n-amr-demo-bucket-2']"
      ]
     },
     "execution_count": 8,
     "metadata": {},
     "output_type": "execute_result"
    }
   ],
   "source": [
    "# we could sucessfully delete the bucket because there was no object in it, later we will see how to put an object into a bucjet\n",
    "[bucket[\"Name\"] for bucket in client.list_buckets()[\"Buckets\"]]\n",
    "    "
   ]
  },
  {
   "cell_type": "markdown",
   "metadata": {},
   "source": [
    "### Uploading files to bucket "
   ]
  },
  {
   "cell_type": "code",
   "execution_count": 9,
   "metadata": {},
   "outputs": [],
   "source": [
    "import pandas as pd\n",
    "df_1= pd.DataFrame({'col1': [1,2,3,4], 'col2': ['a1','a2','a3','a4']})\n",
    "df_2 = pd.DataFrame({'col1': [5,6,7,8], 'col2': ['a2','a3','a4','a5']})\n"
   ]
  },
  {
   "cell_type": "code",
   "execution_count": 10,
   "metadata": {},
   "outputs": [],
   "source": [
    "# using s3 --> let's put the first dataframe into our first bucket \n",
    "csv = df_1.to_csv()\n",
    "put_object = bucket_1.put_object(ACL='private', Key=\"new-folder/test.csv\", Body=csv)"
   ]
  },
  {
   "cell_type": "code",
   "execution_count": 11,
   "metadata": {},
   "outputs": [],
   "source": [
    "# using client --> let's put the second dataframe into our first bucket, this time with public access\n",
    "csv_2 = df_2.to_csv()\n",
    "put_object = bucket_1.put_object(ACL='public-read', Key=\"test2.csv\", Body=csv_2)"
   ]
  },
  {
   "cell_type": "markdown",
   "metadata": {},
   "source": [
    " ### Listing and accessing files in a bucket"
   ]
  },
  {
   "cell_type": "code",
   "execution_count": 12,
   "metadata": {},
   "outputs": [
    {
     "name": "stdout",
     "output_type": "stream",
     "text": [
      "new-folder/test.csv\n",
      "test2.csv\n"
     ]
    }
   ],
   "source": [
    "# LISTING  method 1\n",
    "\n",
    "#first select the bucket you want to look into using s3 \n",
    "\n",
    "bucket = s3.Bucket(\"n-amr-demo-bucket-1\")\n",
    "\n",
    "for obj in bucket.objects.all():\n",
    "    print(obj.key)\n",
    "    \n"
   ]
  },
  {
   "cell_type": "code",
   "execution_count": 13,
   "metadata": {},
   "outputs": [
    {
     "data": {
      "text/plain": [
       "['new-folder/test.csv', 'test2.csv']"
      ]
     },
     "execution_count": 13,
     "metadata": {},
     "output_type": "execute_result"
    }
   ],
   "source": [
    "# we can also use list comprehensions\n",
    "all_files = [obj.key for obj in bucket.objects.all()]\n",
    "all_files"
   ]
  },
  {
   "cell_type": "code",
   "execution_count": 14,
   "metadata": {
    "scrolled": true
   },
   "outputs": [
    {
     "name": "stdout",
     "output_type": "stream",
     "text": [
      "new-folder/test.csv\n",
      "test2.csv\n"
     ]
    }
   ],
   "source": [
    "# LISTING method 2 --> using client\n",
    "for obj in client.list_objects(Bucket = \"n-amr-demo-bucket-1\")[\"Contents\"]:\n",
    "    print(obj[\"Key\"])\n",
    "\n"
   ]
  },
  {
   "cell_type": "code",
   "execution_count": 15,
   "metadata": {},
   "outputs": [
    {
     "data": {
      "text/plain": [
       "['new-folder/test.csv']"
      ]
     },
     "execution_count": 15,
     "metadata": {},
     "output_type": "execute_result"
    }
   ],
   "source": [
    "# What if we want to filter by prefix or suffix? We can use the filter method\n",
    "some_files = [obj.key for obj in bucket.objects.filter(Prefix=\"new-folder\")]\n",
    "some_files"
   ]
  },
  {
   "cell_type": "code",
   "execution_count": 16,
   "metadata": {},
   "outputs": [
    {
     "data": {
      "text/plain": [
       "s3.Object(bucket_name='n-amr-demo-bucket-1', key='new-folder/test.csv')"
      ]
     },
     "execution_count": 16,
     "metadata": {},
     "output_type": "execute_result"
    }
   ],
   "source": [
    "# ACCESSING method 1 \n",
    "obj = bucket.Object('new-folder/test.csv')\n",
    "obj"
   ]
  },
  {
   "cell_type": "code",
   "execution_count": 17,
   "metadata": {},
   "outputs": [
    {
     "data": {
      "text/plain": [
       "s3.Object(bucket_name='n-amr-demo-bucket-1', key='test2.csv')"
      ]
     },
     "execution_count": 17,
     "metadata": {},
     "output_type": "execute_result"
    }
   ],
   "source": [
    "# ACCESSING method 2\n",
    "obj = s3.Object('n-amr-demo-bucket-1', 'test2.csv')\n",
    "obj"
   ]
  },
  {
   "cell_type": "markdown",
   "metadata": {},
   "source": [
    "### Downloading or reading a file from a bucket\n"
   ]
  },
  {
   "cell_type": "code",
   "execution_count": null,
   "metadata": {},
   "outputs": [],
   "source": [
    "# downloading\n",
    "s3.Bucket(\"n-amr-demo-bucket-1\").download_file('test2.csv', #'file_destination')"
   ]
  },
  {
   "cell_type": "code",
   "execution_count": 18,
   "metadata": {},
   "outputs": [
    {
     "data": {
      "text/html": [
       "<div>\n",
       "<style scoped>\n",
       "    .dataframe tbody tr th:only-of-type {\n",
       "        vertical-align: middle;\n",
       "    }\n",
       "\n",
       "    .dataframe tbody tr th {\n",
       "        vertical-align: top;\n",
       "    }\n",
       "\n",
       "    .dataframe thead th {\n",
       "        text-align: right;\n",
       "    }\n",
       "</style>\n",
       "<table border=\"1\" class=\"dataframe\">\n",
       "  <thead>\n",
       "    <tr style=\"text-align: right;\">\n",
       "      <th></th>\n",
       "      <th>Unnamed: 0</th>\n",
       "      <th>col1</th>\n",
       "      <th>col2</th>\n",
       "    </tr>\n",
       "  </thead>\n",
       "  <tbody>\n",
       "    <tr>\n",
       "      <th>0</th>\n",
       "      <td>0</td>\n",
       "      <td>5</td>\n",
       "      <td>a2</td>\n",
       "    </tr>\n",
       "    <tr>\n",
       "      <th>1</th>\n",
       "      <td>1</td>\n",
       "      <td>6</td>\n",
       "      <td>a3</td>\n",
       "    </tr>\n",
       "    <tr>\n",
       "      <th>2</th>\n",
       "      <td>2</td>\n",
       "      <td>7</td>\n",
       "      <td>a4</td>\n",
       "    </tr>\n",
       "    <tr>\n",
       "      <th>3</th>\n",
       "      <td>3</td>\n",
       "      <td>8</td>\n",
       "      <td>a5</td>\n",
       "    </tr>\n",
       "  </tbody>\n",
       "</table>\n",
       "</div>"
      ],
      "text/plain": [
       "   Unnamed: 0  col1 col2\n",
       "0           0     5   a2\n",
       "1           1     6   a3\n",
       "2           2     7   a4\n",
       "3           3     8   a5"
      ]
     },
     "execution_count": 18,
     "metadata": {},
     "output_type": "execute_result"
    }
   ],
   "source": [
    "# however, sometimes we only want to read the file w/o downloading it. In that case we can use the io library\n",
    "import io\n",
    "obj = s3.Object('n-amr-demo-bucket-1', 'test2.csv')\n",
    "\n",
    "df = pd.read_csv(io.BytesIO(obj.get()['Body'].read()))\n",
    "df.head()"
   ]
  },
  {
   "cell_type": "markdown",
   "metadata": {},
   "source": [
    "### Deleting a file from a bucket"
   ]
  },
  {
   "cell_type": "code",
   "execution_count": 19,
   "metadata": {},
   "outputs": [],
   "source": [
    "# this method allows to delete several objects through a dictionary. Here we delete only one\n",
    "\n",
    "bucket = s3.Bucket(\"n-amr-demo-bucket-1\")\n",
    "response = bucket.delete_objects(\n",
    "    Delete={\n",
    "        'Objects': [\n",
    "            {\n",
    "                'Key': \"test2.csv\"\n",
    "            }\n",
    "        ]\n",
    "    }\n",
    ")"
   ]
  },
  {
   "cell_type": "code",
   "execution_count": 20,
   "metadata": {},
   "outputs": [
    {
     "name": "stdout",
     "output_type": "stream",
     "text": [
      "new-folder/test.csv\n"
     ]
    }
   ],
   "source": [
    "for obj in bucket.objects.all():\n",
    "    print(obj.key)"
   ]
  },
  {
   "cell_type": "code",
   "execution_count": 21,
   "metadata": {},
   "outputs": [],
   "source": [
    "# this client method allows the deletion of objects one at a time\n",
    "response = client.delete_object(\n",
    "    Bucket='n-amr-demo-bucket-1',\n",
    "    Key='new-folder/test.csv',\n",
    ")"
   ]
  },
  {
   "cell_type": "code",
   "execution_count": 22,
   "metadata": {},
   "outputs": [],
   "source": [
    "# the bucket is now empty\n",
    "for obj in bucket.objects.all():\n",
    "    print(obj.key)"
   ]
  },
  {
   "cell_type": "code",
   "execution_count": 125,
   "metadata": {},
   "outputs": [],
   "source": []
  },
  {
   "cell_type": "code",
   "execution_count": null,
   "metadata": {},
   "outputs": [],
   "source": []
  }
 ],
 "metadata": {
  "kernelspec": {
   "display_name": "Python 3",
   "language": "python",
   "name": "python3"
  },
  "language_info": {
   "codemirror_mode": {
    "name": "ipython",
    "version": 3
   },
   "file_extension": ".py",
   "mimetype": "text/x-python",
   "name": "python",
   "nbconvert_exporter": "python",
   "pygments_lexer": "ipython3",
   "version": "3.8.3"
  }
 },
 "nbformat": 4,
 "nbformat_minor": 4
}
