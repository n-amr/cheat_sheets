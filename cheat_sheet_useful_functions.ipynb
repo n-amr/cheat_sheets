{
 "cells": [
  {
   "cell_type": "code",
   "execution_count": 1,
   "metadata": {},
   "outputs": [],
   "source": [
    "import pandas as pd\n",
    "import numpy as np \n",
    "import datetime as dt\n",
    "import re\n",
    "import seaborn as sns\n"
   ]
  },
  {
   "cell_type": "markdown",
   "metadata": {},
   "source": [
    "# Functions for Pandas DFs"
   ]
  },
  {
   "cell_type": "markdown",
   "metadata": {},
   "source": [
    "#### table with counts and % of unique values for a column"
   ]
  },
  {
   "cell_type": "code",
   "execution_count": 11,
   "metadata": {},
   "outputs": [
    {
     "data": {
      "text/html": [
       "<div>\n",
       "<style scoped>\n",
       "    .dataframe tbody tr th:only-of-type {\n",
       "        vertical-align: middle;\n",
       "    }\n",
       "\n",
       "    .dataframe tbody tr th {\n",
       "        vertical-align: top;\n",
       "    }\n",
       "\n",
       "    .dataframe thead th {\n",
       "        text-align: right;\n",
       "    }\n",
       "</style>\n",
       "<table border=\"1\" class=\"dataframe\">\n",
       "  <thead>\n",
       "    <tr style=\"text-align: right;\">\n",
       "      <th></th>\n",
       "      <th>species</th>\n",
       "      <th>island</th>\n",
       "      <th>bill_length_mm</th>\n",
       "      <th>bill_depth_mm</th>\n",
       "      <th>flipper_length_mm</th>\n",
       "      <th>body_mass_g</th>\n",
       "      <th>sex</th>\n",
       "    </tr>\n",
       "  </thead>\n",
       "  <tbody>\n",
       "    <tr>\n",
       "      <th>0</th>\n",
       "      <td>Adelie</td>\n",
       "      <td>Torgersen</td>\n",
       "      <td>39.1</td>\n",
       "      <td>18.7</td>\n",
       "      <td>181.0</td>\n",
       "      <td>3750.0</td>\n",
       "      <td>MALE</td>\n",
       "    </tr>\n",
       "    <tr>\n",
       "      <th>1</th>\n",
       "      <td>Adelie</td>\n",
       "      <td>Torgersen</td>\n",
       "      <td>39.5</td>\n",
       "      <td>17.4</td>\n",
       "      <td>186.0</td>\n",
       "      <td>3800.0</td>\n",
       "      <td>FEMALE</td>\n",
       "    </tr>\n",
       "    <tr>\n",
       "      <th>2</th>\n",
       "      <td>Adelie</td>\n",
       "      <td>Torgersen</td>\n",
       "      <td>40.3</td>\n",
       "      <td>18.0</td>\n",
       "      <td>195.0</td>\n",
       "      <td>3250.0</td>\n",
       "      <td>FEMALE</td>\n",
       "    </tr>\n",
       "    <tr>\n",
       "      <th>3</th>\n",
       "      <td>Adelie</td>\n",
       "      <td>Torgersen</td>\n",
       "      <td>NaN</td>\n",
       "      <td>NaN</td>\n",
       "      <td>NaN</td>\n",
       "      <td>NaN</td>\n",
       "      <td>NaN</td>\n",
       "    </tr>\n",
       "    <tr>\n",
       "      <th>4</th>\n",
       "      <td>Adelie</td>\n",
       "      <td>Torgersen</td>\n",
       "      <td>36.7</td>\n",
       "      <td>19.3</td>\n",
       "      <td>193.0</td>\n",
       "      <td>3450.0</td>\n",
       "      <td>FEMALE</td>\n",
       "    </tr>\n",
       "  </tbody>\n",
       "</table>\n",
       "</div>"
      ],
      "text/plain": [
       "  species     island  bill_length_mm  bill_depth_mm  flipper_length_mm  \\\n",
       "0  Adelie  Torgersen            39.1           18.7              181.0   \n",
       "1  Adelie  Torgersen            39.5           17.4              186.0   \n",
       "2  Adelie  Torgersen            40.3           18.0              195.0   \n",
       "3  Adelie  Torgersen             NaN            NaN                NaN   \n",
       "4  Adelie  Torgersen            36.7           19.3              193.0   \n",
       "\n",
       "   body_mass_g     sex  \n",
       "0       3750.0    MALE  \n",
       "1       3800.0  FEMALE  \n",
       "2       3250.0  FEMALE  \n",
       "3          NaN     NaN  \n",
       "4       3450.0  FEMALE  "
      ]
     },
     "execution_count": 11,
     "metadata": {},
     "output_type": "execute_result"
    }
   ],
   "source": [
    "penguins = sns.load_dataset(\"penguins\")\n",
    "penguins.head()"
   ]
  },
  {
   "cell_type": "code",
   "execution_count": 12,
   "metadata": {},
   "outputs": [],
   "source": [
    " # def function to show return table with count of unique values of a series \n",
    "def show_unique_count(df_name, column_name, digits = 2):\n",
    "    \n",
    "    count = df_name[column_name].value_counts(dropna=False)\n",
    "    percentage = (df_name[column_name].value_counts \\\n",
    "                      (dropna=False, normalize=True) \\\n",
    "                      *100).round(digits)\n",
    "    table = pd.concat([count,percentage],\\\n",
    "                    axis=1,\\\n",
    "                    keys=['counts', '%'])\n",
    "    return(table)\n"
   ]
  },
  {
   "cell_type": "code",
   "execution_count": 13,
   "metadata": {},
   "outputs": [
    {
     "data": {
      "text/html": [
       "<div>\n",
       "<style scoped>\n",
       "    .dataframe tbody tr th:only-of-type {\n",
       "        vertical-align: middle;\n",
       "    }\n",
       "\n",
       "    .dataframe tbody tr th {\n",
       "        vertical-align: top;\n",
       "    }\n",
       "\n",
       "    .dataframe thead th {\n",
       "        text-align: right;\n",
       "    }\n",
       "</style>\n",
       "<table border=\"1\" class=\"dataframe\">\n",
       "  <thead>\n",
       "    <tr style=\"text-align: right;\">\n",
       "      <th></th>\n",
       "      <th>counts</th>\n",
       "      <th>%</th>\n",
       "    </tr>\n",
       "  </thead>\n",
       "  <tbody>\n",
       "    <tr>\n",
       "      <th>MALE</th>\n",
       "      <td>168</td>\n",
       "      <td>48.84</td>\n",
       "    </tr>\n",
       "    <tr>\n",
       "      <th>FEMALE</th>\n",
       "      <td>165</td>\n",
       "      <td>47.97</td>\n",
       "    </tr>\n",
       "    <tr>\n",
       "      <th>NaN</th>\n",
       "      <td>11</td>\n",
       "      <td>3.20</td>\n",
       "    </tr>\n",
       "  </tbody>\n",
       "</table>\n",
       "</div>"
      ],
      "text/plain": [
       "        counts      %\n",
       "MALE       168  48.84\n",
       "FEMALE     165  47.97\n",
       "NaN         11   3.20"
      ]
     },
     "execution_count": 13,
     "metadata": {},
     "output_type": "execute_result"
    }
   ],
   "source": [
    "show_unique_count(penguins, \"sex\")"
   ]
  },
  {
   "cell_type": "markdown",
   "metadata": {},
   "source": [
    "# Functions for Sklearn"
   ]
  },
  {
   "cell_type": "code",
   "execution_count": 25,
   "metadata": {
    "scrolled": true
   },
   "outputs": [
    {
     "name": "stderr",
     "output_type": "stream",
     "text": [
      "/Users/personal/opt/anaconda3/lib/python3.8/site-packages/sklearn/linear_model/_logistic.py:762: ConvergenceWarning: lbfgs failed to converge (status=1):\n",
      "STOP: TOTAL NO. of ITERATIONS REACHED LIMIT.\n",
      "\n",
      "Increase the number of iterations (max_iter) or scale the data as shown in:\n",
      "    https://scikit-learn.org/stable/modules/preprocessing.html\n",
      "Please also refer to the documentation for alternative solver options:\n",
      "    https://scikit-learn.org/stable/modules/linear_model.html#logistic-regression\n",
      "  n_iter_i = _check_optimize_result(\n"
     ]
    },
    {
     "data": {
      "text/plain": [
       "LogisticRegression()"
      ]
     },
     "execution_count": 25,
     "metadata": {},
     "output_type": "execute_result"
    }
   ],
   "source": [
    "# preparing model\n",
    "iris = sns.load_dataset(\"iris\")\n",
    "iris.head()\n",
    "X = iris.drop(columns = \"species\")\n",
    "y = iris[\"species\"]\n",
    "\n",
    "\n",
    "from sklearn.model_selection import train_test_split\n",
    "X_train, X_test, y_train, y_test = train_test_split(X,y,\n",
    "                                                    test_size = 0.2,\n",
    "                                                    stratify = y ,\n",
    "                                                    random_state = 0)\n",
    "\n",
    "from sklearn.preprocessing import LabelEncoder\n",
    "\n",
    "lb = LabelEncoder()\n",
    "\n",
    "y_train = lb.fit_transform(y_train)\n",
    "y_test = lb.transform(y_test)\n",
    "\n",
    "from sklearn.linear_model import LogisticRegression\n",
    "clf = LogisticRegression()\n",
    "clf.fit(X_train, y_train)"
   ]
  },
  {
   "cell_type": "markdown",
   "metadata": {},
   "source": [
    "### Function that prints scores of a classifier"
   ]
  },
  {
   "cell_type": "code",
   "execution_count": 52,
   "metadata": {},
   "outputs": [],
   "source": [
    "def print_scores(model_name, X_train = X_train, X_test = X_test, y_test = y_test, y_train = y_train, avg = \"binary\"): \n",
    "# avg = binary is the default argument for the scores, but only works for binary outputs\n",
    "    from sklearn.metrics import accuracy_score,recall_score,precision_score,f1_score\n",
    "    \n",
    "    print(\"Scores for default model on test set\")\n",
    "    print(\"\")\n",
    "    print('Accuracy Score : {}'.format(accuracy_score(y_test,model_name.predict(X_test))))\n",
    "    print('Precision Score : {}'.format(precision_score(y_test,model_name.predict(X_test), average = avg)))\n",
    "    print('Recall Score : {}' .format(recall_score(y_test,model_name.predict(X_test), average = avg)))\n",
    "    print('F1 Score : {}'.format(f1_score(y_test,model_name.predict(X_test), average = avg)))\n",
    "    \n",
    "    print(\"\")\n",
    "    print(\"\")\n",
    "    print(\"Scores for default model on train set\")\n",
    "    print(\"\")\n",
    "    print('Accuracy Score : {}'.format(accuracy_score(y_train,model_name.predict(X_train))))\n",
    "    print('Precision Score : {}'.format(precision_score(y_train,model_name.predict(X_train), average = avg)))\n",
    "    print('Recall Score : {}' .format(recall_score(y_train,model_name.predict(X_train), average = avg)))\n",
    "    print('F1 Score : {}'.format(f1_score(y_train,model_name.predict(X_train), average= avg)))"
   ]
  },
  {
   "cell_type": "code",
   "execution_count": 60,
   "metadata": {
    "scrolled": true
   },
   "outputs": [
    {
     "name": "stdout",
     "output_type": "stream",
     "text": [
      "Scores for default model on test set\n",
      "\n",
      "Accuracy Score : 1.0\n",
      "Precision Score : 1.0\n",
      "Recall Score : 1.0\n",
      "F1 Score : 1.0\n",
      "\n",
      "\n",
      "Scores for default model on train set\n",
      "\n",
      "Accuracy Score : 0.9666666666666667\n",
      "Precision Score : 0.9674185463659147\n",
      "Recall Score : 0.9666666666666667\n",
      "F1 Score : 0.9666458203043571\n"
     ]
    }
   ],
   "source": [
    "print_scores(clf, avg =\"weighted\") "
   ]
  },
  {
   "cell_type": "markdown",
   "metadata": {},
   "source": [
    "### Function that prints confusion matrix of a classifier"
   ]
  },
  {
   "cell_type": "code",
   "execution_count": 61,
   "metadata": {},
   "outputs": [],
   "source": [
    "def show_confusion_matrix(model_name,X_train = X_train , X_test = X_test, y_test = y_test , y_train = y_train ): # def_function to show confusion_matrix\n",
    "\n",
    "    import matplotlib.pyplot as plt \n",
    "    from sklearn.metrics import confusion_matrix\n",
    "\n",
    "    fig, (ax1, ax2) = plt.subplots(1,2,figsize=(10, 4))  \n",
    "\n",
    "    ax1.set_title('Confusion Matrix of the test set')\n",
    "    ax1.set_xlabel(\"Predicted Values\")\n",
    "    ax1.set_ylabel(\"Actual Values\")\n",
    "    \n",
    "    ax2.set_title('Confusion Matrix of the train set')\n",
    "    ax2.set_xlabel(\"Predicted Values\")\n",
    "    ax2.set_ylabel(\"Actual Values\")\n",
    "    \n",
    "    cfm_test = confusion_matrix(y_test,model_name.predict(X_test))\n",
    "    cfm_train = confusion_matrix(y_train,model_name.predict(X_train))\n",
    "    sns.heatmap(cfm_test, annot=True, fmt=\"g\", cmap=\"seismic\", ax=ax1, )\n",
    "    sns.heatmap(cfm_train, annot=True, fmt=\"g\", cmap=\"seismic\", ax=ax2)\n",
    "    \n",
    "    \n",
    "    plt.tight_layout(), plt.show()"
   ]
  },
  {
   "cell_type": "code",
   "execution_count": 62,
   "metadata": {},
   "outputs": [
    {
     "data": {
      "image/png": "[encoded data removed]",
      "text/plain": [
       "<Figure size 720x288 with 4 Axes>"
      ]
     },
     "metadata": {
      "needs_background": "light"
     },
     "output_type": "display_data"
    }
   ],
   "source": [
    "show_confusion_matrix(clf)"
   ]
  },
  {
   "cell_type": "code",
   "execution_count": null,
   "metadata": {},
   "outputs": [],
   "source": []
  }
 ],
 "metadata": {
  "kernelspec": {
   "display_name": "Python 3",
   "language": "python",
   "name": "python3"
  },
  "language_info": {
   "codemirror_mode": {
    "name": "ipython",
    "version": 3
   },
   "file_extension": ".py",
   "mimetype": "text/x-python",
   "name": "python",
   "nbconvert_exporter": "python",
   "pygments_lexer": "ipython3",
   "version": "3.8.3"
  }
 },
 "nbformat": 4,
 "nbformat_minor": 4
}
